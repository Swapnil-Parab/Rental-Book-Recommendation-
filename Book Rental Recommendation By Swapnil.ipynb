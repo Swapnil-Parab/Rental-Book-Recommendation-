{
 "cells": [
  {
   "cell_type": "code",
   "execution_count": 1,
   "id": "78015788",
   "metadata": {},
   "outputs": [],
   "source": [
    "import pandas as pd\n",
    "import numpy as np\n",
    "import seaborn as sns\n",
    "import matplotlib.pyplot as plt\n",
    "%matplotlib inline\n",
    "\n",
    "import warnings\n",
    "warnings.filterwarnings('ignore')"
   ]
  },
  {
   "cell_type": "code",
   "execution_count": 2,
   "id": "187c3b69",
   "metadata": {},
   "outputs": [],
   "source": [
    "rating = pd.read_csv(r\"BX-Book-Ratings.csv\", encoding='ISO-8859-1')\n",
    "book = pd.read_csv('BX-Books.csv', encoding='ISO-8859-1')\n",
    "user = pd.read_csv('BX-Users.csv', encoding='ISO-8859-1')"
   ]
  },
  {
   "cell_type": "code",
   "execution_count": 3,
   "id": "a6d15193",
   "metadata": {},
   "outputs": [
    {
     "name": "stdout",
     "output_type": "stream",
     "text": [
      "(1048575, 3)\n",
      "(271379, 5)\n",
      "(278859, 3)\n"
     ]
    }
   ],
   "source": [
    "print (rating.shape)\n",
    "print (book.shape)\n",
    "print (user.shape)"
   ]
  },
  {
   "cell_type": "code",
   "execution_count": 4,
   "id": "cf5d7923",
   "metadata": {},
   "outputs": [
    {
     "data": {
      "text/plain": [
       "user_id    0\n",
       "isbn       0\n",
       "rating     0\n",
       "dtype: int64"
      ]
     },
     "execution_count": 4,
     "metadata": {},
     "output_type": "execute_result"
    }
   ],
   "source": [
    "rating.isna().sum()"
   ]
  },
  {
   "cell_type": "code",
   "execution_count": 5,
   "id": "3378b57c",
   "metadata": {},
   "outputs": [
    {
     "data": {
      "text/plain": [
       "isbn                   0\n",
       "book_title             0\n",
       "book_author            1\n",
       "year_of_publication    0\n",
       "publisher              2\n",
       "dtype: int64"
      ]
     },
     "execution_count": 5,
     "metadata": {},
     "output_type": "execute_result"
    }
   ],
   "source": [
    "book.isna().sum()"
   ]
  },
  {
   "cell_type": "code",
   "execution_count": 7,
   "id": "3a266dee",
   "metadata": {},
   "outputs": [
    {
     "data": {
      "text/plain": [
       "user_id          0\n",
       "Location         1\n",
       "Age         110763\n",
       "dtype: int64"
      ]
     },
     "execution_count": 7,
     "metadata": {},
     "output_type": "execute_result"
    }
   ],
   "source": [
    "user.isna().sum()"
   ]
  },
  {
   "cell_type": "code",
   "execution_count": 8,
   "id": "30a9f228",
   "metadata": {},
   "outputs": [
    {
     "data": {
      "text/plain": [
       "isbn                   0\n",
       "book_title             0\n",
       "book_author            0\n",
       "year_of_publication    0\n",
       "publisher              0\n",
       "dtype: int64"
      ]
     },
     "execution_count": 8,
     "metadata": {},
     "output_type": "execute_result"
    }
   ],
   "source": [
    "book.dropna(inplace=True)\n",
    "book.isna().sum()"
   ]
  },
  {
   "cell_type": "code",
   "execution_count": 9,
   "id": "a772cea0",
   "metadata": {},
   "outputs": [
    {
     "name": "stdout",
     "output_type": "stream",
     "text": [
      "0\n",
      "146\n",
      "0\n"
     ]
    }
   ],
   "source": [
    "print(book.duplicated().sum())\n",
    "print(rating.duplicated().sum())\n",
    "print(user.duplicated().sum())"
   ]
  },
  {
   "cell_type": "code",
   "execution_count": 10,
   "id": "15711a0a",
   "metadata": {},
   "outputs": [
    {
     "name": "stdout",
     "output_type": "stream",
     "text": [
      "0\n"
     ]
    }
   ],
   "source": [
    "rating.drop_duplicates(inplace=True)\n",
    "print(rating.duplicated().sum())"
   ]
  },
  {
   "cell_type": "code",
   "execution_count": 11,
   "id": "1b38e351",
   "metadata": {},
   "outputs": [
    {
     "data": {
      "text/plain": [
       "Index(['isbn', 'book_title', 'book_author', 'year_of_publication',\n",
       "       'publisher'],\n",
       "      dtype='object')"
      ]
     },
     "execution_count": 11,
     "metadata": {},
     "output_type": "execute_result"
    }
   ],
   "source": [
    "book.columns"
   ]
  },
  {
   "cell_type": "code",
   "execution_count": 12,
   "id": "a94a1276",
   "metadata": {},
   "outputs": [
    {
     "data": {
      "text/plain": [
       "Index(['user_id', 'isbn', 'rating'], dtype='object')"
      ]
     },
     "execution_count": 12,
     "metadata": {},
     "output_type": "execute_result"
    }
   ],
   "source": [
    "rating.columns"
   ]
  },
  {
   "cell_type": "code",
   "execution_count": 13,
   "id": "6a06a763",
   "metadata": {},
   "outputs": [
    {
     "data": {
      "text/plain": [
       "Index(['user_id', 'Location', 'Age'], dtype='object')"
      ]
     },
     "execution_count": 13,
     "metadata": {},
     "output_type": "execute_result"
    }
   ],
   "source": [
    "user.columns"
   ]
  },
  {
   "cell_type": "markdown",
   "id": "c36f5676",
   "metadata": {},
   "source": [
    "#book_data = book.drop(['Image-URL-S', 'Image-URL-M', 'Image-URL-L'], axis= 1, inplace= True)\n",
    "book_data = book.columns= book.columns.str.strip().str.lower().str.replace('-', '_')\n",
    "user_data = user.columns= user.columns.str.strip().str.lower().str.replace('-', '_')\n",
    "rating_data = rating.columns= rating.columns.str.strip().str.lower().str.replace('-', '_')"
   ]
  },
  {
   "cell_type": "code",
   "execution_count": 14,
   "id": "994465a3",
   "metadata": {
    "scrolled": true
   },
   "outputs": [
    {
     "name": "stdout",
     "output_type": "stream",
     "text": [
      "<class 'pandas.core.frame.DataFrame'>\n",
      "Int64Index: 271376 entries, 0 to 271378\n",
      "Data columns (total 5 columns):\n",
      " #   Column               Non-Null Count   Dtype \n",
      "---  ------               --------------   ----- \n",
      " 0   isbn                 271376 non-null  object\n",
      " 1   book_title           271376 non-null  object\n",
      " 2   book_author          271376 non-null  object\n",
      " 3   year_of_publication  271376 non-null  object\n",
      " 4   publisher            271376 non-null  object\n",
      "dtypes: object(5)\n",
      "memory usage: 12.4+ MB\n"
     ]
    }
   ],
   "source": [
    "book.info()"
   ]
  },
  {
   "cell_type": "markdown",
   "id": "9f4af671",
   "metadata": {},
   "source": [
    "# Take a quick look at the number of unique users and books "
   ]
  },
  {
   "cell_type": "code",
   "execution_count": 15,
   "id": "f412f1f3",
   "metadata": {},
   "outputs": [
    {
     "data": {
      "text/html": [
       "<div>\n",
       "<style scoped>\n",
       "    .dataframe tbody tr th:only-of-type {\n",
       "        vertical-align: middle;\n",
       "    }\n",
       "\n",
       "    .dataframe tbody tr th {\n",
       "        vertical-align: top;\n",
       "    }\n",
       "\n",
       "    .dataframe thead th {\n",
       "        text-align: right;\n",
       "    }\n",
       "</style>\n",
       "<table border=\"1\" class=\"dataframe\">\n",
       "  <thead>\n",
       "    <tr style=\"text-align: right;\">\n",
       "      <th></th>\n",
       "      <th>isbn</th>\n",
       "      <th>book_title</th>\n",
       "      <th>book_author</th>\n",
       "      <th>year_of_publication</th>\n",
       "      <th>publisher</th>\n",
       "    </tr>\n",
       "  </thead>\n",
       "  <tbody>\n",
       "    <tr>\n",
       "      <th>0</th>\n",
       "      <td>195153448</td>\n",
       "      <td>Classical Mythology</td>\n",
       "      <td>Mark P. O. Morford</td>\n",
       "      <td>2002</td>\n",
       "      <td>Oxford University Press</td>\n",
       "    </tr>\n",
       "    <tr>\n",
       "      <th>1</th>\n",
       "      <td>2005018</td>\n",
       "      <td>Clara Callan</td>\n",
       "      <td>Richard Bruce Wright</td>\n",
       "      <td>2001</td>\n",
       "      <td>HarperFlamingo Canada</td>\n",
       "    </tr>\n",
       "    <tr>\n",
       "      <th>2</th>\n",
       "      <td>60973129</td>\n",
       "      <td>Decision in Normandy</td>\n",
       "      <td>Carlo D'Este</td>\n",
       "      <td>1991</td>\n",
       "      <td>HarperPerennial</td>\n",
       "    </tr>\n",
       "    <tr>\n",
       "      <th>3</th>\n",
       "      <td>374157065</td>\n",
       "      <td>Flu: The Story of the Great Influenza Pandemic...</td>\n",
       "      <td>Gina Bari Kolata</td>\n",
       "      <td>1999</td>\n",
       "      <td>Farrar Straus Giroux</td>\n",
       "    </tr>\n",
       "    <tr>\n",
       "      <th>4</th>\n",
       "      <td>393045218</td>\n",
       "      <td>The Mummies of Urumchi</td>\n",
       "      <td>E. J. W. Barber</td>\n",
       "      <td>1999</td>\n",
       "      <td>W. W. Norton &amp;amp; Company</td>\n",
       "    </tr>\n",
       "  </tbody>\n",
       "</table>\n",
       "</div>"
      ],
      "text/plain": [
       "        isbn                                         book_title  \\\n",
       "0  195153448                                Classical Mythology   \n",
       "1    2005018                                       Clara Callan   \n",
       "2   60973129                               Decision in Normandy   \n",
       "3  374157065  Flu: The Story of the Great Influenza Pandemic...   \n",
       "4  393045218                             The Mummies of Urumchi   \n",
       "\n",
       "            book_author year_of_publication                   publisher  \n",
       "0    Mark P. O. Morford                2002     Oxford University Press  \n",
       "1  Richard Bruce Wright                2001       HarperFlamingo Canada  \n",
       "2          Carlo D'Este                1991             HarperPerennial  \n",
       "3      Gina Bari Kolata                1999        Farrar Straus Giroux  \n",
       "4       E. J. W. Barber                1999  W. W. Norton &amp; Company  "
      ]
     },
     "execution_count": 15,
     "metadata": {},
     "output_type": "execute_result"
    }
   ],
   "source": [
    "book.head()"
   ]
  },
  {
   "cell_type": "code",
   "execution_count": 16,
   "id": "8d5d93a3",
   "metadata": {},
   "outputs": [
    {
     "data": {
      "text/plain": [
       "array(['2002', '2001', '1991', '1999', '2000', '1993', '1996', '1988',\n",
       "       '2004', '1998', '1994', '2003', '1997', '1983', '1979', '1995',\n",
       "       '1982', '1985', '1992', '1986', '1978', '1980', '1952', '1987',\n",
       "       '1990', '1981', '1989', '1984', '0', '1968', '1961', '1958',\n",
       "       '1974', '1976', '1971', '1977', '1975', '1965', '1941', '1970',\n",
       "       '1962', '1973', '1972', '1960', '1966', '1920', '1956', '1959',\n",
       "       '1953', '1951', '1942', '1963', '1964', '1969', '1954', '1950',\n",
       "       '1967', '2005', '1957', '1940', '1937', 'John Peterman', '1955',\n",
       "       '1946', '1936', '1930', '2011', '1925', '1948', '1943', '1947',\n",
       "       '1945', '1923', '2020', '1939', '1926', '1938', '2030',\n",
       "       '\\\\\"Freedom Song\\\\\"\"', '1911', '1904', '1949', 'Frank Muir',\n",
       "       '1932', '1928', '1929', '1927', '1931', '1914', '2050', '1934',\n",
       "       '1910', 'ROBERT A. WILSON', '1933', '1902', 'Karen T. Whittenburg',\n",
       "       '1924', '1921', '1900', '2038', '2026', 'George H. Scherr', '1944',\n",
       "       '1917', '1901', 'Salvador de Madariaga', '2010',\n",
       "       'K.C. Constantine', 'Stan Berenstain', '1908', '1906', '1935',\n",
       "       '1806', 'Francine Pascal', '2021', 'Luella Hill', '2012', '2006',\n",
       "       'John Alderson Foote', 'DK Publishing Inc', 'Jules Janin',\n",
       "       'Gallimard', '1909', '2008', '1378', ' &amp', ' Learning\"', '1919',\n",
       "       '1922', '1897', 'Isadora Duncan', '2024', 'Beatrix Potter', '1376',\n",
       "       '2037', 'Bart Rulon', 'Alan Rich', 2000, 1982, 1983, 1989, 1993,\n",
       "       1991, 1990, 1998, 1994, 1995, 1986, 1987, 1974, 1984, 0, 1977,\n",
       "       1996, 1997, 1980, 1988, 2002, 2001, 1981, 1999, 1992, 2003, 2004,\n",
       "       1972, 1976, 1985, 1978, 1979, 1970, 1962, 1975, 1901, 1973, 1955,\n",
       "       1971, 1964, 1963, 1958, 1968, 1969, 1966, 1946, 1943, 1967, 1949,\n",
       "       1965, 1961, 1960, 1930, 1951, 1957, 1959, 1952, 1953, 1956, 1950,\n",
       "       1954, 1920, 2005, 1940, 1929], dtype=object)"
      ]
     },
     "execution_count": 16,
     "metadata": {},
     "output_type": "execute_result"
    }
   ],
   "source": [
    "book[\"year_of_publication\"].unique()"
   ]
  },
  {
   "cell_type": "markdown",
   "id": "a7876737",
   "metadata": {},
   "source": [
    "there are three string values in the 'year_of_publication' column. Let's check at the corresponding rows in the dataframe."
   ]
  },
  {
   "cell_type": "code",
   "execution_count": 17,
   "id": "3013d149",
   "metadata": {},
   "outputs": [],
   "source": [
    "#dropping the rows with errors as they are very few in number\n",
    "book.drop(book[book['year_of_publication'] == 'DK Publishing Inc'].index, inplace = True)\n",
    "book.drop(book[book['year_of_publication'] == 'Gallimard'].index, inplace = True)\n",
    "book.drop(book[book['year_of_publication'] == 'John Peterman'].index, inplace = True)\n",
    "book.drop(book[book['year_of_publication'] == '\\\\\"Freedom Song\\\\\"\"'].index, inplace = True)\n",
    "book.drop(book[book['year_of_publication'] == 'Frank Muir'].index, inplace = True)\n",
    "book.drop(book[book['year_of_publication'] == 'ROBERT A. WILSON'].index, inplace = True)\n",
    "book.drop(book[book['year_of_publication'] == 'Karen T. Whittenburg'].index, inplace = True)\n",
    "book.drop(book[book['year_of_publication'] == 'George H. Scherr'].index, inplace = True)\n",
    "book.drop(book[book['year_of_publication'] == 'Salvador de Madariaga'].index, inplace = True)\n",
    "book.drop(book[book['year_of_publication'] == 'K.C. Constantine'].index, inplace = True)\n",
    "book.drop(book[book['year_of_publication'] == 'Stan Berenstain'].index, inplace = True)\n",
    "book.drop(book[book['year_of_publication'] == 'Francine Pascal'].index, inplace = True)\n",
    "book.drop(book[book['year_of_publication'] == 'Luella Hill'].index, inplace = True)\n",
    "book.drop(book[book['year_of_publication'] == 'John Alderson Foote'].index, inplace = True)\n",
    "book.drop(book[book['year_of_publication'] == 'Jules Janin'].index, inplace = True)\n",
    "book.drop(book[book['year_of_publication'] == ' &amp'].index, inplace = True)\n",
    "book.drop(book[book['year_of_publication'] == ' Learning\"'].index, inplace = True)\n",
    "book.drop(book[book['year_of_publication'] == 'Isadora Duncan'].index, inplace = True)\n",
    "book.drop(book[book['year_of_publication'] == 'Beatrix Potter'].index, inplace = True)\n",
    "book.drop(book[book['year_of_publication'] == 'Bart Rulon'].index, inplace = True)\n",
    "book.drop(book[book['year_of_publication'] == 'Alan Rich'].index, inplace = True)\n",
    "\n"
   ]
  },
  {
   "cell_type": "code",
   "execution_count": 18,
   "id": "9c2e7738",
   "metadata": {},
   "outputs": [],
   "source": [
    "book.drop(book[book['year_of_publication'] == {'DK Publishing Inc','Gallimard','John Peterman','Frank Muir','Salvador de Madariaga','\\\\\"Freedom Song\\\\\"\"'}].index, inplace = True)"
   ]
  },
  {
   "cell_type": "code",
   "execution_count": 19,
   "id": "e565a04d",
   "metadata": {},
   "outputs": [
    {
     "data": {
      "text/plain": [
       "array(['2002', '2001', '1991', '1999', '2000', '1993', '1996', '1988',\n",
       "       '2004', '1998', '1994', '2003', '1997', '1983', '1979', '1995',\n",
       "       '1982', '1985', '1992', '1986', '1978', '1980', '1952', '1987',\n",
       "       '1990', '1981', '1989', '1984', '0', '1968', '1961', '1958',\n",
       "       '1974', '1976', '1971', '1977', '1975', '1965', '1941', '1970',\n",
       "       '1962', '1973', '1972', '1960', '1966', '1920', '1956', '1959',\n",
       "       '1953', '1951', '1942', '1963', '1964', '1969', '1954', '1950',\n",
       "       '1967', '2005', '1957', '1940', '1937', '1955', '1946', '1936',\n",
       "       '1930', '2011', '1925', '1948', '1943', '1947', '1945', '1923',\n",
       "       '2020', '1939', '1926', '1938', '2030', '1911', '1904', '1949',\n",
       "       '1932', '1928', '1929', '1927', '1931', '1914', '2050', '1934',\n",
       "       '1910', '1933', '1902', '1924', '1921', '1900', '2038', '2026',\n",
       "       '1944', '1917', '1901', '2010', '1908', '1906', '1935', '1806',\n",
       "       '2021', '2012', '2006', '1909', '2008', '1378', '1919', '1922',\n",
       "       '1897', '2024', '1376', '2037', 2000, 1982, 1983, 1989, 1993, 1991,\n",
       "       1990, 1998, 1994, 1995, 1986, 1987, 1974, 1984, 0, 1977, 1996,\n",
       "       1997, 1980, 1988, 2002, 2001, 1981, 1999, 1992, 2003, 2004, 1972,\n",
       "       1976, 1985, 1978, 1979, 1970, 1962, 1975, 1901, 1973, 1955, 1971,\n",
       "       1964, 1963, 1958, 1968, 1969, 1966, 1946, 1943, 1967, 1949, 1965,\n",
       "       1961, 1960, 1930, 1951, 1957, 1959, 1952, 1953, 1956, 1950, 1954,\n",
       "       1920, 2005, 1940, 1929], dtype=object)"
      ]
     },
     "execution_count": 19,
     "metadata": {},
     "output_type": "execute_result"
    }
   ],
   "source": [
    "book[\"year_of_publication\"].unique()"
   ]
  },
  {
   "cell_type": "code",
   "execution_count": 20,
   "id": "abe06213",
   "metadata": {},
   "outputs": [],
   "source": [
    "#changing the publication year to int type before feeding it to the models\n",
    "book['year_of_publication'] = book['year_of_publication'].astype('int')"
   ]
  },
  {
   "cell_type": "code",
   "execution_count": 21,
   "id": "90ebaeb1",
   "metadata": {},
   "outputs": [
    {
     "name": "stdout",
     "output_type": "stream",
     "text": [
      "[0, 1376, 1378, 1806, 1897, 1900, 1901, 1902, 1904, 1906, 1908, 1909, 1910, 1911, 1914, 1917, 1919, 1920, 1921, 1922, 1923, 1924, 1925, 1926, 1927, 1928, 1929, 1930, 1931, 1932, 1933, 1934, 1935, 1936, 1937, 1938, 1939, 1940, 1941, 1942, 1943, 1944, 1945, 1946, 1947, 1948, 1949, 1950, 1951, 1952, 1953, 1954, 1955, 1956, 1957, 1958, 1959, 1960, 1961, 1962, 1963, 1964, 1965, 1966, 1967, 1968, 1969, 1970, 1971, 1972, 1973, 1974, 1975, 1976, 1977, 1978, 1979, 1980, 1981, 1982, 1983, 1984, 1985, 1986, 1987, 1988, 1989, 1990, 1991, 1992, 1993, 1994, 1995, 1996, 1997, 1998, 1999, 2000, 2001, 2002, 2003, 2004, 2005, 2006, 2008, 2010, 2011, 2012, 2020, 2021, 2024, 2026, 2030, 2037, 2038, 2050]\n"
     ]
    }
   ],
   "source": [
    "print(sorted(book['year_of_publication'].unique()))"
   ]
  },
  {
   "cell_type": "code",
   "execution_count": 22,
   "id": "ff94a6e3",
   "metadata": {},
   "outputs": [
    {
     "data": {
      "image/png": "[encoded data removed]",
      "text/plain": [
       "<Figure size 1080x504 with 1 Axes>"
      ]
     },
     "metadata": {
      "needs_background": "light"
     },
     "output_type": "display_data"
    }
   ],
   "source": [
    "plt.subplots(figsize=(15,7))\n",
    "sns.set_theme(style=\"darkgrid\",context = 'notebook')\n",
    "sns.barplot(x = book['publisher'].value_counts()[:20].index,y = book['publisher'].value_counts()[:20].values,\n",
    "            palette = 'rocket').set(title = 'Top 20 publishers with most books published',xlabel = 'publisher name',ylabel = 'count of books published')\n",
    "plt.xticks(rotation = 80)\n",
    "plt.show()"
   ]
  },
  {
   "cell_type": "markdown",
   "id": "1a3b1ca8",
   "metadata": {},
   "source": [
    "Harlequin can be seen as the publication house that has published the most number of books almost close to 7600 books, followed by Silhouette then Pocket and others in the sequence."
   ]
  },
  {
   "cell_type": "code",
   "execution_count": 23,
   "id": "6c9801ea",
   "metadata": {},
   "outputs": [
    {
     "data": {
      "image/png": "[encoded data removed]",
      "text/plain": [
       "<Figure size 1080x504 with 1 Axes>"
      ]
     },
     "metadata": {},
     "output_type": "display_data"
    }
   ],
   "source": [
    "plt.subplots(figsize=(15,7))\n",
    "sns.set_theme(style=\"darkgrid\",context = 'notebook')\n",
    "sns.barplot(x = book['book_author'].value_counts()[:20].index,y = book['book_author'].value_counts()[:20].values,\n",
    "            palette = 'viridis_r').set(title = 'Top 20 authors with most books written',xlabel = \"author's name\",ylabel = 'count of books written')\n",
    "plt.xticks(rotation = 80)\n",
    "plt.show()\n"
   ]
  },
  {
   "cell_type": "markdown",
   "id": "21e43cb5",
   "metadata": {},
   "source": [
    "Agatha Christie has authored the most books in our dataset with 600 books. William Shakespeare, Stephen Hawking and Ann M. Martin are also some of the authors who have written 600+ books."
   ]
  },
  {
   "cell_type": "code",
   "execution_count": null,
   "id": "6ed7d86d",
   "metadata": {},
   "outputs": [],
   "source": []
  },
  {
   "cell_type": "markdown",
   "id": "9bdafbfe",
   "metadata": {},
   "source": [
    "Now look at user dataset"
   ]
  },
  {
   "cell_type": "code",
   "execution_count": 24,
   "id": "e84d1efa",
   "metadata": {},
   "outputs": [
    {
     "data": {
      "text/html": [
       "<div>\n",
       "<style scoped>\n",
       "    .dataframe tbody tr th:only-of-type {\n",
       "        vertical-align: middle;\n",
       "    }\n",
       "\n",
       "    .dataframe tbody tr th {\n",
       "        vertical-align: top;\n",
       "    }\n",
       "\n",
       "    .dataframe thead th {\n",
       "        text-align: right;\n",
       "    }\n",
       "</style>\n",
       "<table border=\"1\" class=\"dataframe\">\n",
       "  <thead>\n",
       "    <tr style=\"text-align: right;\">\n",
       "      <th></th>\n",
       "      <th>user_id</th>\n",
       "      <th>Location</th>\n",
       "      <th>Age</th>\n",
       "    </tr>\n",
       "  </thead>\n",
       "  <tbody>\n",
       "    <tr>\n",
       "      <th>0</th>\n",
       "      <td>1</td>\n",
       "      <td>nyc, new york, usa</td>\n",
       "      <td>NaN</td>\n",
       "    </tr>\n",
       "    <tr>\n",
       "      <th>1</th>\n",
       "      <td>2</td>\n",
       "      <td>stockton, california, usa</td>\n",
       "      <td>18.0</td>\n",
       "    </tr>\n",
       "    <tr>\n",
       "      <th>2</th>\n",
       "      <td>3</td>\n",
       "      <td>moscow, yukon territory, russia</td>\n",
       "      <td>NaN</td>\n",
       "    </tr>\n",
       "    <tr>\n",
       "      <th>3</th>\n",
       "      <td>4</td>\n",
       "      <td>porto, v.n.gaia, portugal</td>\n",
       "      <td>17.0</td>\n",
       "    </tr>\n",
       "    <tr>\n",
       "      <th>4</th>\n",
       "      <td>5</td>\n",
       "      <td>farnborough, hants, united kingdom</td>\n",
       "      <td>NaN</td>\n",
       "    </tr>\n",
       "  </tbody>\n",
       "</table>\n",
       "</div>"
      ],
      "text/plain": [
       "  user_id                            Location   Age\n",
       "0       1                  nyc, new york, usa   NaN\n",
       "1       2           stockton, california, usa  18.0\n",
       "2       3     moscow, yukon territory, russia   NaN\n",
       "3       4           porto, v.n.gaia, portugal  17.0\n",
       "4       5  farnborough, hants, united kingdom   NaN"
      ]
     },
     "execution_count": 24,
     "metadata": {},
     "output_type": "execute_result"
    }
   ],
   "source": [
    "user.head()"
   ]
  },
  {
   "cell_type": "code",
   "execution_count": 25,
   "id": "124b7853",
   "metadata": {},
   "outputs": [
    {
     "name": "stdout",
     "output_type": "stream",
     "text": [
      "<class 'pandas.core.frame.DataFrame'>\n",
      "RangeIndex: 278859 entries, 0 to 278858\n",
      "Data columns (total 3 columns):\n",
      " #   Column    Non-Null Count   Dtype  \n",
      "---  ------    --------------   -----  \n",
      " 0   user_id   278859 non-null  object \n",
      " 1   Location  278858 non-null  object \n",
      " 2   Age       168096 non-null  float64\n",
      "dtypes: float64(1), object(2)\n",
      "memory usage: 6.4+ MB\n"
     ]
    }
   ],
   "source": [
    "user.info()"
   ]
  },
  {
   "cell_type": "code",
   "execution_count": 26,
   "id": "5aba3768",
   "metadata": {},
   "outputs": [
    {
     "name": "stdout",
     "output_type": "stream",
     "text": [
      "[nan, 0.0, 1.0, 2.0, 3.0, 4.0, 5.0, 6.0, 7.0, 8.0, 9.0, 10.0, 11.0, 12.0, 13.0, 14.0, 15.0, 16.0, 17.0, 18.0, 19.0, 20.0, 21.0, 22.0, 23.0, 24.0, 25.0, 26.0, 27.0, 28.0, 29.0, 30.0, 31.0, 32.0, 33.0, 34.0, 35.0, 36.0, 37.0, 38.0, 39.0, 40.0, 41.0, 42.0, 43.0, 44.0, 45.0, 46.0, 47.0, 48.0, 49.0, 50.0, 51.0, 52.0, 53.0, 54.0, 55.0, 56.0, 57.0, 58.0, 59.0, 60.0, 61.0, 62.0, 63.0, 64.0, 65.0, 66.0, 67.0, 68.0, 69.0, 70.0, 71.0, 72.0, 73.0, 74.0, 75.0, 76.0, 77.0, 78.0, 79.0, 80.0, 81.0, 82.0, 83.0, 84.0, 85.0, 86.0, 87.0, 88.0, 89.0, 90.0, 91.0, 92.0, 93.0, 94.0, 95.0, 96.0, 97.0, 98.0, 99.0, 100.0, 101.0, 102.0, 103.0, 104.0, 105.0, 106.0, 107.0, 108.0, 109.0, 110.0, 111.0, 113.0, 114.0, 115.0, 116.0, 118.0, 119.0, 123.0, 124.0, 127.0, 128.0, 132.0, 133.0, 136.0, 137.0, 138.0, 140.0, 141.0, 143.0, 146.0, 147.0, 148.0, 151.0, 152.0, 156.0, 157.0, 159.0, 162.0, 168.0, 172.0, 175.0, 183.0, 186.0, 189.0, 199.0, 200.0, 201.0, 204.0, 207.0, 208.0, 209.0, 210.0, 212.0, 219.0, 220.0, 223.0, 226.0, 228.0, 229.0, 230.0, 231.0, 237.0, 239.0, 244.0]\n"
     ]
    }
   ],
   "source": [
    "print(sorted(user[\"Age\"].unique()))"
   ]
  },
  {
   "cell_type": "markdown",
   "id": "d385771f",
   "metadata": {},
   "source": [
    "As we can can see in above cell, The minimum age starting from age \"0\" and its goes to \"244\" which is practically not possible so we will craete function for filter the data, for age 05 to 90 and rest will be replaced by mean"
   ]
  },
  {
   "cell_type": "code",
   "execution_count": 27,
   "id": "fdfcc04b",
   "metadata": {},
   "outputs": [
    {
     "name": "stdout",
     "output_type": "stream",
     "text": [
      "[5.0, 6.0, 7.0, 8.0, 9.0, 10.0, 11.0, 12.0, 13.0, 14.0, 15.0, 16.0, 17.0, 18.0, 19.0, 20.0, 21.0, 22.0, 23.0, 24.0, 25.0, 26.0, 27.0, 28.0, 29.0, 30.0, 31.0, 32.0, 33.0, 34.0, 34.72384041634689, 35.0, 36.0, 37.0, 38.0, 39.0, 40.0, 41.0, 42.0, 43.0, 44.0, 45.0, 46.0, 47.0, 48.0, 49.0, 50.0, 51.0, 52.0, 53.0, 54.0, 55.0, 56.0, 57.0, 58.0, 59.0, 60.0, 61.0, 62.0, 63.0, 64.0, 65.0, 66.0, 67.0, 68.0, 69.0, 70.0, 71.0, 72.0, 73.0, 74.0, 75.0, 76.0, 77.0, 78.0, 79.0, 80.0, 81.0, 82.0, 83.0, 84.0, 85.0, 86.0, 87.0, 88.0, 89.0, 90.0]\n"
     ]
    }
   ],
   "source": [
    "#replacing the less than 5 and more than 85 values with mean of the age   \n",
    "user.loc[(user['Age'] < 5) | (user['Age'] > 90),'Age'] = np.nan\n",
    "user['Age'].fillna((user['Age'].mean()), inplace=True)\n",
    "\n",
    "print(sorted(user['Age'].unique()))"
   ]
  },
  {
   "cell_type": "code",
   "execution_count": 28,
   "id": "5369414a",
   "metadata": {},
   "outputs": [],
   "source": [
    "#converting the age to integer type \n",
    "user['Age'] = user['Age'].astype('int')"
   ]
  },
  {
   "cell_type": "code",
   "execution_count": 29,
   "id": "78011a72",
   "metadata": {},
   "outputs": [
    {
     "data": {
      "image/png": "[encoded data removed]",
      "text/plain": [
       "<Figure size 1080x504 with 1 Axes>"
      ]
     },
     "metadata": {},
     "output_type": "display_data"
    }
   ],
   "source": [
    "plt.subplots(figsize=(15,7))\n",
    "sns.set_theme(style=\"darkgrid\",context = 'notebook')\n",
    "sns.barplot(x = user['Age'].value_counts()[1:20].index,y = user['Age'].value_counts()[1:20].values,\n",
    "            palette = 'magma').set(xlabel = \"Age\",ylabel = 'number of users')\n",
    "plt.show()"
   ]
  },
  {
   "cell_type": "markdown",
   "id": "0a6a7ada",
   "metadata": {},
   "source": [
    "Lets do EDA on Rating"
   ]
  },
  {
   "cell_type": "code",
   "execution_count": 30,
   "id": "dc584d56",
   "metadata": {},
   "outputs": [
    {
     "data": {
      "text/html": [
       "<div>\n",
       "<style scoped>\n",
       "    .dataframe tbody tr th:only-of-type {\n",
       "        vertical-align: middle;\n",
       "    }\n",
       "\n",
       "    .dataframe tbody tr th {\n",
       "        vertical-align: top;\n",
       "    }\n",
       "\n",
       "    .dataframe thead th {\n",
       "        text-align: right;\n",
       "    }\n",
       "</style>\n",
       "<table border=\"1\" class=\"dataframe\">\n",
       "  <thead>\n",
       "    <tr style=\"text-align: right;\">\n",
       "      <th></th>\n",
       "      <th>user_id</th>\n",
       "      <th>isbn</th>\n",
       "      <th>rating</th>\n",
       "    </tr>\n",
       "  </thead>\n",
       "  <tbody>\n",
       "    <tr>\n",
       "      <th>0</th>\n",
       "      <td>276725</td>\n",
       "      <td>034545104X</td>\n",
       "      <td>0</td>\n",
       "    </tr>\n",
       "    <tr>\n",
       "      <th>1</th>\n",
       "      <td>276726</td>\n",
       "      <td>155061224</td>\n",
       "      <td>5</td>\n",
       "    </tr>\n",
       "    <tr>\n",
       "      <th>2</th>\n",
       "      <td>276727</td>\n",
       "      <td>446520802</td>\n",
       "      <td>0</td>\n",
       "    </tr>\n",
       "    <tr>\n",
       "      <th>3</th>\n",
       "      <td>276729</td>\n",
       "      <td>052165615X</td>\n",
       "      <td>3</td>\n",
       "    </tr>\n",
       "    <tr>\n",
       "      <th>4</th>\n",
       "      <td>276729</td>\n",
       "      <td>521795028</td>\n",
       "      <td>6</td>\n",
       "    </tr>\n",
       "  </tbody>\n",
       "</table>\n",
       "</div>"
      ],
      "text/plain": [
       "   user_id        isbn  rating\n",
       "0   276725  034545104X       0\n",
       "1   276726   155061224       5\n",
       "2   276727   446520802       0\n",
       "3   276729  052165615X       3\n",
       "4   276729   521795028       6"
      ]
     },
     "execution_count": 30,
     "metadata": {},
     "output_type": "execute_result"
    }
   ],
   "source": [
    "rating.head()"
   ]
  },
  {
   "cell_type": "code",
   "execution_count": 31,
   "id": "1a246219",
   "metadata": {},
   "outputs": [
    {
     "name": "stdout",
     "output_type": "stream",
     "text": [
      "<class 'pandas.core.frame.DataFrame'>\n",
      "Int64Index: 1048429 entries, 0 to 1048574\n",
      "Data columns (total 3 columns):\n",
      " #   Column   Non-Null Count    Dtype \n",
      "---  ------   --------------    ----- \n",
      " 0   user_id  1048429 non-null  int64 \n",
      " 1   isbn     1048429 non-null  object\n",
      " 2   rating   1048429 non-null  int64 \n",
      "dtypes: int64(2), object(1)\n",
      "memory usage: 32.0+ MB\n"
     ]
    }
   ],
   "source": [
    "rating.info()"
   ]
  },
  {
   "cell_type": "code",
   "execution_count": 32,
   "id": "3ddea406",
   "metadata": {},
   "outputs": [
    {
     "data": {
      "text/plain": [
       "array([ 0,  5,  3,  6,  8,  7, 10,  9,  4,  1,  2], dtype=int64)"
      ]
     },
     "execution_count": 32,
     "metadata": {},
     "output_type": "execute_result"
    }
   ],
   "source": [
    "rating['rating'].unique()"
   ]
  },
  {
   "cell_type": "code",
   "execution_count": 33,
   "id": "b46b77ef",
   "metadata": {},
   "outputs": [],
   "source": [
    "#keeping only the records of ratings for the books and users whose data is there in the respective users and books csv file\n",
    "new_ratings = rating[rating['isbn'].isin(book['isbn'])]\n",
    "new_ratings = new_ratings[new_ratings['user_id'].isin(user['user_id'])]"
   ]
  },
  {
   "cell_type": "code",
   "execution_count": 34,
   "id": "4471ea2a",
   "metadata": {},
   "outputs": [
    {
     "data": {
      "text/html": [
       "<div>\n",
       "<style scoped>\n",
       "    .dataframe tbody tr th:only-of-type {\n",
       "        vertical-align: middle;\n",
       "    }\n",
       "\n",
       "    .dataframe tbody tr th {\n",
       "        vertical-align: top;\n",
       "    }\n",
       "\n",
       "    .dataframe thead th {\n",
       "        text-align: right;\n",
       "    }\n",
       "</style>\n",
       "<table border=\"1\" class=\"dataframe\">\n",
       "  <thead>\n",
       "    <tr style=\"text-align: right;\">\n",
       "      <th></th>\n",
       "      <th>user_id</th>\n",
       "      <th>isbn</th>\n",
       "      <th>rating</th>\n",
       "    </tr>\n",
       "  </thead>\n",
       "  <tbody>\n",
       "    <tr>\n",
       "      <th>9561</th>\n",
       "      <td>2</td>\n",
       "      <td>195153448</td>\n",
       "      <td>0</td>\n",
       "    </tr>\n",
       "    <tr>\n",
       "      <th>9563</th>\n",
       "      <td>8</td>\n",
       "      <td>2005018</td>\n",
       "      <td>5</td>\n",
       "    </tr>\n",
       "    <tr>\n",
       "      <th>9564</th>\n",
       "      <td>8</td>\n",
       "      <td>60973129</td>\n",
       "      <td>0</td>\n",
       "    </tr>\n",
       "    <tr>\n",
       "      <th>9565</th>\n",
       "      <td>8</td>\n",
       "      <td>374157065</td>\n",
       "      <td>0</td>\n",
       "    </tr>\n",
       "    <tr>\n",
       "      <th>9566</th>\n",
       "      <td>8</td>\n",
       "      <td>393045218</td>\n",
       "      <td>0</td>\n",
       "    </tr>\n",
       "  </tbody>\n",
       "</table>\n",
       "</div>"
      ],
      "text/plain": [
       "      user_id       isbn  rating\n",
       "9561        2  195153448       0\n",
       "9563        8    2005018       5\n",
       "9564        8   60973129       0\n",
       "9565        8  374157065       0\n",
       "9566        8  393045218       0"
      ]
     },
     "execution_count": 34,
     "metadata": {},
     "output_type": "execute_result"
    }
   ],
   "source": [
    "new_ratings.head()"
   ]
  },
  {
   "cell_type": "code",
   "execution_count": 35,
   "id": "3d9ac95a",
   "metadata": {},
   "outputs": [],
   "source": [
    "#dropping the books whose ratings are zero\n",
    "new_ratings = new_ratings.loc[new_ratings['rating'] != 0]"
   ]
  },
  {
   "cell_type": "code",
   "execution_count": 36,
   "id": "d185516a",
   "metadata": {},
   "outputs": [
    {
     "data": {
      "text/html": [
       "<div>\n",
       "<style scoped>\n",
       "    .dataframe tbody tr th:only-of-type {\n",
       "        vertical-align: middle;\n",
       "    }\n",
       "\n",
       "    .dataframe tbody tr th {\n",
       "        vertical-align: top;\n",
       "    }\n",
       "\n",
       "    .dataframe thead th {\n",
       "        text-align: right;\n",
       "    }\n",
       "</style>\n",
       "<table border=\"1\" class=\"dataframe\">\n",
       "  <thead>\n",
       "    <tr style=\"text-align: right;\">\n",
       "      <th></th>\n",
       "      <th>user_id</th>\n",
       "      <th>isbn</th>\n",
       "      <th>rating</th>\n",
       "    </tr>\n",
       "  </thead>\n",
       "  <tbody>\n",
       "    <tr>\n",
       "      <th>9563</th>\n",
       "      <td>8</td>\n",
       "      <td>2005018</td>\n",
       "      <td>5</td>\n",
       "    </tr>\n",
       "    <tr>\n",
       "      <th>9571</th>\n",
       "      <td>8</td>\n",
       "      <td>074322678X</td>\n",
       "      <td>5</td>\n",
       "    </tr>\n",
       "    <tr>\n",
       "      <th>9575</th>\n",
       "      <td>8</td>\n",
       "      <td>887841740</td>\n",
       "      <td>5</td>\n",
       "    </tr>\n",
       "    <tr>\n",
       "      <th>9576</th>\n",
       "      <td>8</td>\n",
       "      <td>1552041778</td>\n",
       "      <td>5</td>\n",
       "    </tr>\n",
       "    <tr>\n",
       "      <th>9578</th>\n",
       "      <td>8</td>\n",
       "      <td>1567407781</td>\n",
       "      <td>6</td>\n",
       "    </tr>\n",
       "  </tbody>\n",
       "</table>\n",
       "</div>"
      ],
      "text/plain": [
       "      user_id        isbn  rating\n",
       "9563        8     2005018       5\n",
       "9571        8  074322678X       5\n",
       "9575        8   887841740       5\n",
       "9576        8  1552041778       5\n",
       "9578        8  1567407781       6"
      ]
     },
     "execution_count": 36,
     "metadata": {},
     "output_type": "execute_result"
    }
   ],
   "source": [
    "new_ratings.head()"
   ]
  },
  {
   "cell_type": "code",
   "execution_count": 37,
   "id": "8cef2434",
   "metadata": {},
   "outputs": [
    {
     "data": {
      "image/png": "[encoded data removed]",
      "text/plain": [
       "<Figure size 1080x504 with 1 Axes>"
      ]
     },
     "metadata": {},
     "output_type": "display_data"
    }
   ],
   "source": [
    "plt.subplots(figsize=(15,7))\n",
    "sns.set_theme(style=\"darkgrid\",context = 'notebook')\n",
    "sns.barplot(x = new_ratings['user_id'].value_counts()[0:10].index,y = new_ratings['user_id'].value_counts()[0:10].values,\n",
    "            palette = 'rocket').set(title=\"Users who rated most number of books\",xlabel = \"User ID\",ylabel = 'count of books rated')\n",
    "plt.show()"
   ]
  },
  {
   "cell_type": "markdown",
   "id": "60325230",
   "metadata": {},
   "source": [
    "id 11676 and 98391 have rated the most number of books. They seem to be showing a keen interest"
   ]
  },
  {
   "cell_type": "code",
   "execution_count": 38,
   "id": "4062a52c",
   "metadata": {},
   "outputs": [
    {
     "data": {
      "image/png": "[encoded data removed]",
      "text/plain": [
       "<Figure size 1080x504 with 1 Axes>"
      ]
     },
     "metadata": {},
     "output_type": "display_data"
    }
   ],
   "source": [
    "plt.subplots(figsize=(15,7))\n",
    "sns.set_theme(style=\"darkgrid\",context = 'notebook')\n",
    "sns.barplot(x = new_ratings['rating'].value_counts().index,y = new_ratings['rating'].value_counts().values,\n",
    "            palette = 'magma').set(title=\"ratings distribution\",xlabel = \"Rating\",ylabel = 'Number of books')\n",
    "plt.show()"
   ]
  },
  {
   "cell_type": "markdown",
   "id": "d319ac24",
   "metadata": {},
   "source": [
    "From above plot we can say that users had given really positive ratings (The average rating is 7 and most of users voted above that also)."
   ]
  },
  {
   "cell_type": "markdown",
   "id": "a0965b4c",
   "metadata": {},
   "source": [
    "# POPULARITY BASED MODEL"
   ]
  },
  {
   "cell_type": "markdown",
   "id": "34d0ca07",
   "metadata": {},
   "source": [
    "### Highest total book rating\n",
    "Books are arranged in such a way that the books with the highest sum total of ratings are at the top."
   ]
  },
  {
   "cell_type": "code",
   "execution_count": null,
   "id": "53f762b2",
   "metadata": {},
   "outputs": [],
   "source": []
  },
  {
   "cell_type": "code",
   "execution_count": null,
   "id": "284c2262",
   "metadata": {},
   "outputs": [],
   "source": []
  },
  {
   "cell_type": "code",
   "execution_count": 39,
   "id": "76ac3350",
   "metadata": {},
   "outputs": [],
   "source": [
    "ratings_sum=pd.DataFrame(new_ratings.groupby(['isbn'])['rating'].sum())"
   ]
  },
  {
   "cell_type": "code",
   "execution_count": 40,
   "id": "2ee48831",
   "metadata": {},
   "outputs": [],
   "source": [
    "merged_df_1 = ratings_sum.merge(book, left_index=True, right_on ='isbn')"
   ]
  },
  {
   "cell_type": "code",
   "execution_count": 41,
   "id": "e14c50ce",
   "metadata": {},
   "outputs": [],
   "source": [
    "final_sum_df = merged_df_1.sort_values(by=['rating'], ascending=False)"
   ]
  },
  {
   "cell_type": "code",
   "execution_count": 42,
   "id": "8cbac55b",
   "metadata": {},
   "outputs": [
    {
     "data": {
      "text/html": [
       "<div>\n",
       "<style scoped>\n",
       "    .dataframe tbody tr th:only-of-type {\n",
       "        vertical-align: middle;\n",
       "    }\n",
       "\n",
       "    .dataframe tbody tr th {\n",
       "        vertical-align: top;\n",
       "    }\n",
       "\n",
       "    .dataframe thead th {\n",
       "        text-align: right;\n",
       "    }\n",
       "</style>\n",
       "<table border=\"1\" class=\"dataframe\">\n",
       "  <thead>\n",
       "    <tr style=\"text-align: right;\">\n",
       "      <th></th>\n",
       "      <th>rating</th>\n",
       "      <th>isbn</th>\n",
       "      <th>book_title</th>\n",
       "      <th>book_author</th>\n",
       "      <th>year_of_publication</th>\n",
       "      <th>publisher</th>\n",
       "    </tr>\n",
       "  </thead>\n",
       "  <tbody>\n",
       "    <tr>\n",
       "      <th>408</th>\n",
       "      <td>5165</td>\n",
       "      <td>316666343</td>\n",
       "      <td>The Lovely Bones: A Novel</td>\n",
       "      <td>Alice Sebold</td>\n",
       "      <td>2002</td>\n",
       "      <td>Little, Brown</td>\n",
       "    </tr>\n",
       "    <tr>\n",
       "      <th>748</th>\n",
       "      <td>3798</td>\n",
       "      <td>385504209</td>\n",
       "      <td>The Da Vinci Code</td>\n",
       "      <td>Dan Brown</td>\n",
       "      <td>2003</td>\n",
       "      <td>Doubleday</td>\n",
       "    </tr>\n",
       "    <tr>\n",
       "      <th>522</th>\n",
       "      <td>2864</td>\n",
       "      <td>312195516</td>\n",
       "      <td>The Red Tent (Bestselling Backlist)</td>\n",
       "      <td>Anita Diamant</td>\n",
       "      <td>1998</td>\n",
       "      <td>Picador USA</td>\n",
       "    </tr>\n",
       "    <tr>\n",
       "      <th>2143</th>\n",
       "      <td>2528</td>\n",
       "      <td>059035342X</td>\n",
       "      <td>Harry Potter and the Sorcerer's Stone (Harry P...</td>\n",
       "      <td>J. K. Rowling</td>\n",
       "      <td>1999</td>\n",
       "      <td>Arthur A. Levine Books</td>\n",
       "    </tr>\n",
       "    <tr>\n",
       "      <th>356</th>\n",
       "      <td>2378</td>\n",
       "      <td>142001740</td>\n",
       "      <td>The Secret Life of Bees</td>\n",
       "      <td>Sue Monk Kidd</td>\n",
       "      <td>2003</td>\n",
       "      <td>Penguin Books</td>\n",
       "    </tr>\n",
       "    <tr>\n",
       "      <th>26</th>\n",
       "      <td>2326</td>\n",
       "      <td>971880107</td>\n",
       "      <td>Wild Animus</td>\n",
       "      <td>Rich Shapero</td>\n",
       "      <td>2004</td>\n",
       "      <td>Too Far</td>\n",
       "    </tr>\n",
       "    <tr>\n",
       "      <th>1105</th>\n",
       "      <td>2292</td>\n",
       "      <td>60928336</td>\n",
       "      <td>Divine Secrets of the Ya-Ya Sisterhood: A Novel</td>\n",
       "      <td>Rebecca Wells</td>\n",
       "      <td>1997</td>\n",
       "      <td>Perennial</td>\n",
       "    </tr>\n",
       "    <tr>\n",
       "      <th>706</th>\n",
       "      <td>2129</td>\n",
       "      <td>446672211</td>\n",
       "      <td>Where the Heart Is (Oprah's Book Club (Paperba...</td>\n",
       "      <td>Billie Letts</td>\n",
       "      <td>1998</td>\n",
       "      <td>Warner Books</td>\n",
       "    </tr>\n",
       "    <tr>\n",
       "      <th>118</th>\n",
       "      <td>2015</td>\n",
       "      <td>671027360</td>\n",
       "      <td>Angels &amp;amp; Demons</td>\n",
       "      <td>Dan Brown</td>\n",
       "      <td>2001</td>\n",
       "      <td>Pocket Star</td>\n",
       "    </tr>\n",
       "    <tr>\n",
       "      <th>231</th>\n",
       "      <td>2006</td>\n",
       "      <td>452282152</td>\n",
       "      <td>Girl with a Pearl Earring</td>\n",
       "      <td>Tracy Chevalier</td>\n",
       "      <td>2001</td>\n",
       "      <td>Plume Books</td>\n",
       "    </tr>\n",
       "  </tbody>\n",
       "</table>\n",
       "</div>"
      ],
      "text/plain": [
       "      rating        isbn                                         book_title  \\\n",
       "408     5165   316666343                          The Lovely Bones: A Novel   \n",
       "748     3798   385504209                                  The Da Vinci Code   \n",
       "522     2864   312195516                The Red Tent (Bestselling Backlist)   \n",
       "2143    2528  059035342X  Harry Potter and the Sorcerer's Stone (Harry P...   \n",
       "356     2378   142001740                            The Secret Life of Bees   \n",
       "26      2326   971880107                                        Wild Animus   \n",
       "1105    2292    60928336    Divine Secrets of the Ya-Ya Sisterhood: A Novel   \n",
       "706     2129   446672211  Where the Heart Is (Oprah's Book Club (Paperba...   \n",
       "118     2015   671027360                                Angels &amp; Demons   \n",
       "231     2006   452282152                          Girl with a Pearl Earring   \n",
       "\n",
       "          book_author  year_of_publication               publisher  \n",
       "408      Alice Sebold                 2002           Little, Brown  \n",
       "748         Dan Brown                 2003               Doubleday  \n",
       "522     Anita Diamant                 1998             Picador USA  \n",
       "2143    J. K. Rowling                 1999  Arthur A. Levine Books  \n",
       "356     Sue Monk Kidd                 2003           Penguin Books  \n",
       "26       Rich Shapero                 2004                 Too Far  \n",
       "1105    Rebecca Wells                 1997               Perennial  \n",
       "706      Billie Letts                 1998            Warner Books  \n",
       "118         Dan Brown                 2001             Pocket Star  \n",
       "231   Tracy Chevalier                 2001             Plume Books  "
      ]
     },
     "execution_count": 42,
     "metadata": {},
     "output_type": "execute_result"
    }
   ],
   "source": [
    "final_sum_df.head(10)"
   ]
  },
  {
   "cell_type": "markdown",
   "id": "9179361a",
   "metadata": {},
   "source": [
    "# Most number of times rated\n",
    "\n",
    "### Books are arranged in such a way that books that have been rated the most number of times irrespective of the rating are at the top."
   ]
  },
  {
   "cell_type": "code",
   "execution_count": 43,
   "id": "679e3fd5",
   "metadata": {},
   "outputs": [],
   "source": [
    "ratings_count=pd.DataFrame(new_ratings.groupby(['isbn'])['rating'].count())"
   ]
  },
  {
   "cell_type": "code",
   "execution_count": 44,
   "id": "67f9193f",
   "metadata": {},
   "outputs": [],
   "source": [
    "merged_df_2 = ratings_count.merge(book, left_index=True, right_on ='isbn')"
   ]
  },
  {
   "cell_type": "code",
   "execution_count": 45,
   "id": "15db68d4",
   "metadata": {},
   "outputs": [],
   "source": [
    "final_count_df = merged_df_2.sort_values(by=['rating'], ascending=False)"
   ]
  },
  {
   "cell_type": "code",
   "execution_count": 46,
   "id": "a5aee009",
   "metadata": {},
   "outputs": [
    {
     "data": {
      "text/html": [
       "<div>\n",
       "<style scoped>\n",
       "    .dataframe tbody tr th:only-of-type {\n",
       "        vertical-align: middle;\n",
       "    }\n",
       "\n",
       "    .dataframe tbody tr th {\n",
       "        vertical-align: top;\n",
       "    }\n",
       "\n",
       "    .dataframe thead th {\n",
       "        text-align: right;\n",
       "    }\n",
       "</style>\n",
       "<table border=\"1\" class=\"dataframe\">\n",
       "  <thead>\n",
       "    <tr style=\"text-align: right;\">\n",
       "      <th></th>\n",
       "      <th>rating</th>\n",
       "      <th>isbn</th>\n",
       "      <th>book_title</th>\n",
       "      <th>book_author</th>\n",
       "      <th>year_of_publication</th>\n",
       "      <th>publisher</th>\n",
       "    </tr>\n",
       "  </thead>\n",
       "  <tbody>\n",
       "    <tr>\n",
       "      <th>408</th>\n",
       "      <td>632</td>\n",
       "      <td>316666343</td>\n",
       "      <td>The Lovely Bones: A Novel</td>\n",
       "      <td>Alice Sebold</td>\n",
       "      <td>2002</td>\n",
       "      <td>Little, Brown</td>\n",
       "    </tr>\n",
       "    <tr>\n",
       "      <th>26</th>\n",
       "      <td>524</td>\n",
       "      <td>971880107</td>\n",
       "      <td>Wild Animus</td>\n",
       "      <td>Rich Shapero</td>\n",
       "      <td>2004</td>\n",
       "      <td>Too Far</td>\n",
       "    </tr>\n",
       "    <tr>\n",
       "      <th>748</th>\n",
       "      <td>450</td>\n",
       "      <td>385504209</td>\n",
       "      <td>The Da Vinci Code</td>\n",
       "      <td>Dan Brown</td>\n",
       "      <td>2003</td>\n",
       "      <td>Doubleday</td>\n",
       "    </tr>\n",
       "    <tr>\n",
       "      <th>522</th>\n",
       "      <td>351</td>\n",
       "      <td>312195516</td>\n",
       "      <td>The Red Tent (Bestselling Backlist)</td>\n",
       "      <td>Anita Diamant</td>\n",
       "      <td>1998</td>\n",
       "      <td>Picador USA</td>\n",
       "    </tr>\n",
       "    <tr>\n",
       "      <th>1105</th>\n",
       "      <td>292</td>\n",
       "      <td>60928336</td>\n",
       "      <td>Divine Secrets of the Ya-Ya Sisterhood: A Novel</td>\n",
       "      <td>Rebecca Wells</td>\n",
       "      <td>1997</td>\n",
       "      <td>Perennial</td>\n",
       "    </tr>\n",
       "    <tr>\n",
       "      <th>2143</th>\n",
       "      <td>283</td>\n",
       "      <td>059035342X</td>\n",
       "      <td>Harry Potter and the Sorcerer's Stone (Harry P...</td>\n",
       "      <td>J. K. Rowling</td>\n",
       "      <td>1999</td>\n",
       "      <td>Arthur A. Levine Books</td>\n",
       "    </tr>\n",
       "    <tr>\n",
       "      <th>356</th>\n",
       "      <td>280</td>\n",
       "      <td>142001740</td>\n",
       "      <td>The Secret Life of Bees</td>\n",
       "      <td>Sue Monk Kidd</td>\n",
       "      <td>2003</td>\n",
       "      <td>Penguin Books</td>\n",
       "    </tr>\n",
       "    <tr>\n",
       "      <th>706</th>\n",
       "      <td>263</td>\n",
       "      <td>446672211</td>\n",
       "      <td>Where the Heart Is (Oprah's Book Club (Paperba...</td>\n",
       "      <td>Billie Letts</td>\n",
       "      <td>1998</td>\n",
       "      <td>Warner Books</td>\n",
       "    </tr>\n",
       "    <tr>\n",
       "      <th>305</th>\n",
       "      <td>258</td>\n",
       "      <td>044023722X</td>\n",
       "      <td>A Painted House</td>\n",
       "      <td>John Grisham</td>\n",
       "      <td>2001</td>\n",
       "      <td>Dell Publishing Company</td>\n",
       "    </tr>\n",
       "    <tr>\n",
       "      <th>231</th>\n",
       "      <td>253</td>\n",
       "      <td>452282152</td>\n",
       "      <td>Girl with a Pearl Earring</td>\n",
       "      <td>Tracy Chevalier</td>\n",
       "      <td>2001</td>\n",
       "      <td>Plume Books</td>\n",
       "    </tr>\n",
       "  </tbody>\n",
       "</table>\n",
       "</div>"
      ],
      "text/plain": [
       "      rating        isbn                                         book_title  \\\n",
       "408      632   316666343                          The Lovely Bones: A Novel   \n",
       "26       524   971880107                                        Wild Animus   \n",
       "748      450   385504209                                  The Da Vinci Code   \n",
       "522      351   312195516                The Red Tent (Bestselling Backlist)   \n",
       "1105     292    60928336    Divine Secrets of the Ya-Ya Sisterhood: A Novel   \n",
       "2143     283  059035342X  Harry Potter and the Sorcerer's Stone (Harry P...   \n",
       "356      280   142001740                            The Secret Life of Bees   \n",
       "706      263   446672211  Where the Heart Is (Oprah's Book Club (Paperba...   \n",
       "305      258  044023722X                                    A Painted House   \n",
       "231      253   452282152                          Girl with a Pearl Earring   \n",
       "\n",
       "          book_author  year_of_publication                publisher  \n",
       "408      Alice Sebold                 2002            Little, Brown  \n",
       "26       Rich Shapero                 2004                  Too Far  \n",
       "748         Dan Brown                 2003                Doubleday  \n",
       "522     Anita Diamant                 1998              Picador USA  \n",
       "1105    Rebecca Wells                 1997                Perennial  \n",
       "2143    J. K. Rowling                 1999   Arthur A. Levine Books  \n",
       "356     Sue Monk Kidd                 2003            Penguin Books  \n",
       "706      Billie Letts                 1998             Warner Books  \n",
       "305      John Grisham                 2001  Dell Publishing Company  \n",
       "231   Tracy Chevalier                 2001              Plume Books  "
      ]
     },
     "execution_count": 46,
     "metadata": {},
     "output_type": "execute_result"
    }
   ],
   "source": [
    "final_count_df.head(10)"
   ]
  },
  {
   "cell_type": "markdown",
   "id": "f6b944cb",
   "metadata": {},
   "source": [
    "# MEMORY BASED COLLABORATIVE FILTERING - ITEM BASED"
   ]
  },
  {
   "cell_type": "code",
   "execution_count": 47,
   "id": "a64f09e7",
   "metadata": {},
   "outputs": [
    {
     "data": {
      "text/html": [
       "<div>\n",
       "<style scoped>\n",
       "    .dataframe tbody tr th:only-of-type {\n",
       "        vertical-align: middle;\n",
       "    }\n",
       "\n",
       "    .dataframe tbody tr th {\n",
       "        vertical-align: top;\n",
       "    }\n",
       "\n",
       "    .dataframe thead th {\n",
       "        text-align: right;\n",
       "    }\n",
       "</style>\n",
       "<table border=\"1\" class=\"dataframe\">\n",
       "  <thead>\n",
       "    <tr style=\"text-align: right;\">\n",
       "      <th></th>\n",
       "      <th>isbn</th>\n",
       "      <th>book_title</th>\n",
       "      <th>book_author</th>\n",
       "      <th>year_of_publication</th>\n",
       "      <th>publisher</th>\n",
       "      <th>user_id</th>\n",
       "      <th>rating</th>\n",
       "      <th>Location</th>\n",
       "      <th>Age</th>\n",
       "    </tr>\n",
       "  </thead>\n",
       "  <tbody>\n",
       "    <tr>\n",
       "      <th>0</th>\n",
       "      <td>195153448</td>\n",
       "      <td>Classical Mythology</td>\n",
       "      <td>Mark P. O. Morford</td>\n",
       "      <td>2002</td>\n",
       "      <td>Oxford University Press</td>\n",
       "      <td>2.0</td>\n",
       "      <td>0.0</td>\n",
       "      <td>stockton, california, usa</td>\n",
       "      <td>18.0</td>\n",
       "    </tr>\n",
       "    <tr>\n",
       "      <th>1</th>\n",
       "      <td>2005018</td>\n",
       "      <td>Clara Callan</td>\n",
       "      <td>Richard Bruce Wright</td>\n",
       "      <td>2001</td>\n",
       "      <td>HarperFlamingo Canada</td>\n",
       "      <td>8.0</td>\n",
       "      <td>5.0</td>\n",
       "      <td>timmins, ontario, canada</td>\n",
       "      <td>34.0</td>\n",
       "    </tr>\n",
       "    <tr>\n",
       "      <th>2</th>\n",
       "      <td>2005018</td>\n",
       "      <td>Clara Callan</td>\n",
       "      <td>Richard Bruce Wright</td>\n",
       "      <td>2001</td>\n",
       "      <td>HarperFlamingo Canada</td>\n",
       "      <td>11400.0</td>\n",
       "      <td>0.0</td>\n",
       "      <td>ottawa, ontario, canada</td>\n",
       "      <td>49.0</td>\n",
       "    </tr>\n",
       "    <tr>\n",
       "      <th>3</th>\n",
       "      <td>2005018</td>\n",
       "      <td>Clara Callan</td>\n",
       "      <td>Richard Bruce Wright</td>\n",
       "      <td>2001</td>\n",
       "      <td>HarperFlamingo Canada</td>\n",
       "      <td>11676.0</td>\n",
       "      <td>8.0</td>\n",
       "      <td>n/a, n/a, n/a</td>\n",
       "      <td>34.0</td>\n",
       "    </tr>\n",
       "    <tr>\n",
       "      <th>4</th>\n",
       "      <td>2005018</td>\n",
       "      <td>Clara Callan</td>\n",
       "      <td>Richard Bruce Wright</td>\n",
       "      <td>2001</td>\n",
       "      <td>HarperFlamingo Canada</td>\n",
       "      <td>41385.0</td>\n",
       "      <td>0.0</td>\n",
       "      <td>sudbury, ontario, canada</td>\n",
       "      <td>34.0</td>\n",
       "    </tr>\n",
       "  </tbody>\n",
       "</table>\n",
       "</div>"
      ],
      "text/plain": [
       "        isbn           book_title           book_author  year_of_publication  \\\n",
       "0  195153448  Classical Mythology    Mark P. O. Morford                 2002   \n",
       "1    2005018         Clara Callan  Richard Bruce Wright                 2001   \n",
       "2    2005018         Clara Callan  Richard Bruce Wright                 2001   \n",
       "3    2005018         Clara Callan  Richard Bruce Wright                 2001   \n",
       "4    2005018         Clara Callan  Richard Bruce Wright                 2001   \n",
       "\n",
       "                 publisher  user_id  rating                   Location   Age  \n",
       "0  Oxford University Press      2.0     0.0  stockton, california, usa  18.0  \n",
       "1    HarperFlamingo Canada      8.0     5.0   timmins, ontario, canada  34.0  \n",
       "2    HarperFlamingo Canada  11400.0     0.0    ottawa, ontario, canada  49.0  \n",
       "3    HarperFlamingo Canada  11676.0     8.0              n/a, n/a, n/a  34.0  \n",
       "4    HarperFlamingo Canada  41385.0     0.0   sudbury, ontario, canada  34.0  "
      ]
     },
     "execution_count": 47,
     "metadata": {},
     "output_type": "execute_result"
    }
   ],
   "source": [
    "#merging the books, users and ratings file\n",
    "merge_df_1=book.merge(rating,how=\"left\", on=\"isbn\")\n",
    "merge_df_2=merge_df_1.merge(user,how=\"left\", on=\"user_id\")\n",
    "df=merge_df_2.copy()\n",
    "df.head()"
   ]
  },
  {
   "cell_type": "code",
   "execution_count": 48,
   "id": "376c67fc",
   "metadata": {},
   "outputs": [],
   "source": [
    "#dropping the location and age columns as they are not relevant for recommender model\n",
    "df.drop(['Location','Age'], axis=1, inplace=True)"
   ]
  },
  {
   "cell_type": "code",
   "execution_count": 49,
   "id": "fef06b5a",
   "metadata": {},
   "outputs": [],
   "source": [
    "#we will only keep the observations that have book_rating greater than 0\n",
    "df = df[df[\"rating\"]>0]"
   ]
  },
  {
   "cell_type": "code",
   "execution_count": 50,
   "id": "0fbac4f5",
   "metadata": {},
   "outputs": [
    {
     "data": {
      "text/plain": [
       "(351853, 7)"
      ]
     },
     "execution_count": 50,
     "metadata": {},
     "output_type": "execute_result"
    }
   ],
   "source": [
    "df.shape"
   ]
  },
  {
   "cell_type": "code",
   "execution_count": 52,
   "id": "a506559f",
   "metadata": {},
   "outputs": [],
   "source": [
    "#counting the number of times the books have been rated\n",
    "count_of_books = pd.DataFrame(df[\"book_title\"].value_counts())"
   ]
  },
  {
   "cell_type": "code",
   "execution_count": 53,
   "id": "e8ed332c",
   "metadata": {},
   "outputs": [
    {
     "data": {
      "text/html": [
       "<div>\n",
       "<style scoped>\n",
       "    .dataframe tbody tr th:only-of-type {\n",
       "        vertical-align: middle;\n",
       "    }\n",
       "\n",
       "    .dataframe tbody tr th {\n",
       "        vertical-align: top;\n",
       "    }\n",
       "\n",
       "    .dataframe thead th {\n",
       "        text-align: right;\n",
       "    }\n",
       "</style>\n",
       "<table border=\"1\" class=\"dataframe\">\n",
       "  <thead>\n",
       "    <tr style=\"text-align: right;\">\n",
       "      <th></th>\n",
       "      <th>book_title</th>\n",
       "    </tr>\n",
       "  </thead>\n",
       "  <tbody>\n",
       "    <tr>\n",
       "      <th>The Lovely Bones: A Novel</th>\n",
       "      <td>635</td>\n",
       "    </tr>\n",
       "    <tr>\n",
       "      <th>Wild Animus</th>\n",
       "      <td>526</td>\n",
       "    </tr>\n",
       "    <tr>\n",
       "      <th>The Da Vinci Code</th>\n",
       "      <td>459</td>\n",
       "    </tr>\n",
       "    <tr>\n",
       "      <th>The Secret Life of Bees</th>\n",
       "      <td>377</td>\n",
       "    </tr>\n",
       "    <tr>\n",
       "      <th>The Nanny Diaries: A Novel</th>\n",
       "      <td>355</td>\n",
       "    </tr>\n",
       "    <tr>\n",
       "      <th>...</th>\n",
       "      <td>...</td>\n",
       "    </tr>\n",
       "    <tr>\n",
       "      <th>Trials of the Visionary Mind: Spiritual Emergency and the Renewal Process (Suny Series in Transpersonal and Humanistic Psychology)</th>\n",
       "      <td>1</td>\n",
       "    </tr>\n",
       "    <tr>\n",
       "      <th>In a Dark Place: The Story of a True Haunting</th>\n",
       "      <td>1</td>\n",
       "    </tr>\n",
       "    <tr>\n",
       "      <th>Dracula (Temporis Collection)</th>\n",
       "      <td>1</td>\n",
       "    </tr>\n",
       "    <tr>\n",
       "      <th>The Bluegrass Conspiracy: An Inside Story of Power, Greed, Drugs and Murder</th>\n",
       "      <td>1</td>\n",
       "    </tr>\n",
       "    <tr>\n",
       "      <th>Inner Peace for Busy People: Simple Strategies for Transforming Your Life</th>\n",
       "      <td>1</td>\n",
       "    </tr>\n",
       "  </tbody>\n",
       "</table>\n",
       "<p>128576 rows × 1 columns</p>\n",
       "</div>"
      ],
      "text/plain": [
       "                                                    book_title\n",
       "The Lovely Bones: A Novel                                  635\n",
       "Wild Animus                                                526\n",
       "The Da Vinci Code                                          459\n",
       "The Secret Life of Bees                                    377\n",
       "The Nanny Diaries: A Novel                                 355\n",
       "...                                                        ...\n",
       "Trials of the Visionary Mind: Spiritual Emergen...           1\n",
       "In a Dark Place: The Story of a True Haunting                1\n",
       "Dracula (Temporis Collection)                                1\n",
       "The Bluegrass Conspiracy: An Inside Story of Po...           1\n",
       "Inner Peace for Busy People: Simple Strategies ...           1\n",
       "\n",
       "[128576 rows x 1 columns]"
      ]
     },
     "execution_count": 53,
     "metadata": {},
     "output_type": "execute_result"
    }
   ],
   "source": [
    "count_of_books.sort_values(\"book_title\", ascending=False)"
   ]
  },
  {
   "cell_type": "code",
   "execution_count": 55,
   "id": "08a27009",
   "metadata": {},
   "outputs": [],
   "source": [
    "#All the books that have been rated less than 100 times - we will count them as rarely read books\n",
    "rare_books = count_of_books[count_of_books[\"book_title\"] <= 100].index"
   ]
  },
  {
   "cell_type": "code",
   "execution_count": 59,
   "id": "bba8a1e9",
   "metadata": {},
   "outputs": [
    {
     "data": {
      "text/plain": [
       "(128412,)"
      ]
     },
     "execution_count": 59,
     "metadata": {},
     "output_type": "execute_result"
    }
   ],
   "source": [
    "rare_books.shape"
   ]
  },
  {
   "cell_type": "code",
   "execution_count": 60,
   "id": "bf672c7b",
   "metadata": {},
   "outputs": [
    {
     "data": {
      "text/html": [
       "<div>\n",
       "<style scoped>\n",
       "    .dataframe tbody tr th:only-of-type {\n",
       "        vertical-align: middle;\n",
       "    }\n",
       "\n",
       "    .dataframe tbody tr th {\n",
       "        vertical-align: top;\n",
       "    }\n",
       "\n",
       "    .dataframe thead th {\n",
       "        text-align: right;\n",
       "    }\n",
       "</style>\n",
       "<table border=\"1\" class=\"dataframe\">\n",
       "  <thead>\n",
       "    <tr style=\"text-align: right;\">\n",
       "      <th></th>\n",
       "      <th>isbn</th>\n",
       "      <th>book_title</th>\n",
       "      <th>book_author</th>\n",
       "      <th>year_of_publication</th>\n",
       "      <th>publisher</th>\n",
       "      <th>user_id</th>\n",
       "      <th>rating</th>\n",
       "    </tr>\n",
       "  </thead>\n",
       "  <tbody>\n",
       "    <tr>\n",
       "      <th>30</th>\n",
       "      <td>399135782</td>\n",
       "      <td>The Kitchen God's Wife</td>\n",
       "      <td>Amy Tan</td>\n",
       "      <td>1991</td>\n",
       "      <td>Putnam Pub Group</td>\n",
       "      <td>11676.0</td>\n",
       "      <td>9.0</td>\n",
       "    </tr>\n",
       "    <tr>\n",
       "      <th>31</th>\n",
       "      <td>399135782</td>\n",
       "      <td>The Kitchen God's Wife</td>\n",
       "      <td>Amy Tan</td>\n",
       "      <td>1991</td>\n",
       "      <td>Putnam Pub Group</td>\n",
       "      <td>29526.0</td>\n",
       "      <td>9.0</td>\n",
       "    </tr>\n",
       "    <tr>\n",
       "      <th>33</th>\n",
       "      <td>399135782</td>\n",
       "      <td>The Kitchen God's Wife</td>\n",
       "      <td>Amy Tan</td>\n",
       "      <td>1991</td>\n",
       "      <td>Putnam Pub Group</td>\n",
       "      <td>46398.0</td>\n",
       "      <td>9.0</td>\n",
       "    </tr>\n",
       "    <tr>\n",
       "      <th>35</th>\n",
       "      <td>399135782</td>\n",
       "      <td>The Kitchen God's Wife</td>\n",
       "      <td>Amy Tan</td>\n",
       "      <td>1991</td>\n",
       "      <td>Putnam Pub Group</td>\n",
       "      <td>49635.0</td>\n",
       "      <td>9.0</td>\n",
       "    </tr>\n",
       "    <tr>\n",
       "      <th>36</th>\n",
       "      <td>399135782</td>\n",
       "      <td>The Kitchen God's Wife</td>\n",
       "      <td>Amy Tan</td>\n",
       "      <td>1991</td>\n",
       "      <td>Putnam Pub Group</td>\n",
       "      <td>67958.0</td>\n",
       "      <td>10.0</td>\n",
       "    </tr>\n",
       "  </tbody>\n",
       "</table>\n",
       "</div>"
      ],
      "text/plain": [
       "         isbn              book_title book_author  year_of_publication  \\\n",
       "30  399135782  The Kitchen God's Wife     Amy Tan                 1991   \n",
       "31  399135782  The Kitchen God's Wife     Amy Tan                 1991   \n",
       "33  399135782  The Kitchen God's Wife     Amy Tan                 1991   \n",
       "35  399135782  The Kitchen God's Wife     Amy Tan                 1991   \n",
       "36  399135782  The Kitchen God's Wife     Amy Tan                 1991   \n",
       "\n",
       "           publisher  user_id  rating  \n",
       "30  Putnam Pub Group  11676.0     9.0  \n",
       "31  Putnam Pub Group  29526.0     9.0  \n",
       "33  Putnam Pub Group  46398.0     9.0  \n",
       "35  Putnam Pub Group  49635.0     9.0  \n",
       "36  Putnam Pub Group  67958.0    10.0  "
      ]
     },
     "execution_count": 60,
     "metadata": {},
     "output_type": "execute_result"
    }
   ],
   "source": [
    "#All the books that are not in the rare books we will count them as frequently read books\n",
    "frequent_books = df[~df[\"book_title\"].isin(rare_books)]\n",
    "frequent_books.head()"
   ]
  },
  {
   "cell_type": "code",
   "execution_count": 63,
   "id": "d9708cf9",
   "metadata": {},
   "outputs": [
    {
     "data": {
      "text/html": [
       "<div>\n",
       "<style scoped>\n",
       "    .dataframe tbody tr th:only-of-type {\n",
       "        vertical-align: middle;\n",
       "    }\n",
       "\n",
       "    .dataframe tbody tr th {\n",
       "        vertical-align: top;\n",
       "    }\n",
       "\n",
       "    .dataframe thead th {\n",
       "        text-align: right;\n",
       "    }\n",
       "</style>\n",
       "<table border=\"1\" class=\"dataframe\">\n",
       "  <thead>\n",
       "    <tr style=\"text-align: right;\">\n",
       "      <th>book_title</th>\n",
       "      <th>1984</th>\n",
       "      <th>1st to Die: A Novel</th>\n",
       "      <th>2nd Chance</th>\n",
       "      <th>A Bend in the Road</th>\n",
       "      <th>A Child Called \\It\\\": One Child's Courage to Survive\"</th>\n",
       "      <th>A Heartbreaking Work of Staggering Genius</th>\n",
       "      <th>A Map of the World</th>\n",
       "      <th>A Painted House</th>\n",
       "      <th>A Prayer for Owen Meany</th>\n",
       "      <th>A Time to Kill</th>\n",
       "      <th>...</th>\n",
       "      <th>Violets Are Blue</th>\n",
       "      <th>Watership Down</th>\n",
       "      <th>We Were the Mulvaneys</th>\n",
       "      <th>When the Wind Blows</th>\n",
       "      <th>Where the Heart Is (Oprah's Book Club (Paperback))</th>\n",
       "      <th>While I Was Gone</th>\n",
       "      <th>White Oleander : A Novel</th>\n",
       "      <th>White Oleander : A Novel (Oprah's Book Club)</th>\n",
       "      <th>Wicked: The Life and Times of the Wicked Witch of the West</th>\n",
       "      <th>Wild Animus</th>\n",
       "    </tr>\n",
       "    <tr>\n",
       "      <th>user_id</th>\n",
       "      <th></th>\n",
       "      <th></th>\n",
       "      <th></th>\n",
       "      <th></th>\n",
       "      <th></th>\n",
       "      <th></th>\n",
       "      <th></th>\n",
       "      <th></th>\n",
       "      <th></th>\n",
       "      <th></th>\n",
       "      <th></th>\n",
       "      <th></th>\n",
       "      <th></th>\n",
       "      <th></th>\n",
       "      <th></th>\n",
       "      <th></th>\n",
       "      <th></th>\n",
       "      <th></th>\n",
       "      <th></th>\n",
       "      <th></th>\n",
       "      <th></th>\n",
       "    </tr>\n",
       "  </thead>\n",
       "  <tbody>\n",
       "    <tr>\n",
       "      <th>16.0</th>\n",
       "      <td>0</td>\n",
       "      <td>0.0</td>\n",
       "      <td>0.0</td>\n",
       "      <td>0.0</td>\n",
       "      <td>0</td>\n",
       "      <td>0</td>\n",
       "      <td>0</td>\n",
       "      <td>0.0</td>\n",
       "      <td>0</td>\n",
       "      <td>0</td>\n",
       "      <td>...</td>\n",
       "      <td>0.0</td>\n",
       "      <td>0</td>\n",
       "      <td>0</td>\n",
       "      <td>0</td>\n",
       "      <td>0</td>\n",
       "      <td>0</td>\n",
       "      <td>0.0</td>\n",
       "      <td>0</td>\n",
       "      <td>0</td>\n",
       "      <td>0</td>\n",
       "    </tr>\n",
       "    <tr>\n",
       "      <th>26.0</th>\n",
       "      <td>0</td>\n",
       "      <td>0.0</td>\n",
       "      <td>0.0</td>\n",
       "      <td>0.0</td>\n",
       "      <td>0</td>\n",
       "      <td>0</td>\n",
       "      <td>0</td>\n",
       "      <td>0.0</td>\n",
       "      <td>0</td>\n",
       "      <td>0</td>\n",
       "      <td>...</td>\n",
       "      <td>0.0</td>\n",
       "      <td>0</td>\n",
       "      <td>0</td>\n",
       "      <td>0</td>\n",
       "      <td>0</td>\n",
       "      <td>0</td>\n",
       "      <td>0.0</td>\n",
       "      <td>0</td>\n",
       "      <td>0</td>\n",
       "      <td>0</td>\n",
       "    </tr>\n",
       "    <tr>\n",
       "      <th>51.0</th>\n",
       "      <td>0</td>\n",
       "      <td>0.0</td>\n",
       "      <td>0.0</td>\n",
       "      <td>0.0</td>\n",
       "      <td>0</td>\n",
       "      <td>0</td>\n",
       "      <td>0</td>\n",
       "      <td>0.0</td>\n",
       "      <td>0</td>\n",
       "      <td>0</td>\n",
       "      <td>...</td>\n",
       "      <td>0.0</td>\n",
       "      <td>0</td>\n",
       "      <td>0</td>\n",
       "      <td>0</td>\n",
       "      <td>0</td>\n",
       "      <td>0</td>\n",
       "      <td>0.0</td>\n",
       "      <td>0</td>\n",
       "      <td>0</td>\n",
       "      <td>0</td>\n",
       "    </tr>\n",
       "    <tr>\n",
       "      <th>91.0</th>\n",
       "      <td>0</td>\n",
       "      <td>0.0</td>\n",
       "      <td>0.0</td>\n",
       "      <td>0.0</td>\n",
       "      <td>0</td>\n",
       "      <td>0</td>\n",
       "      <td>0</td>\n",
       "      <td>0.0</td>\n",
       "      <td>0</td>\n",
       "      <td>0</td>\n",
       "      <td>...</td>\n",
       "      <td>0.0</td>\n",
       "      <td>0</td>\n",
       "      <td>0</td>\n",
       "      <td>0</td>\n",
       "      <td>0</td>\n",
       "      <td>0</td>\n",
       "      <td>0.0</td>\n",
       "      <td>0</td>\n",
       "      <td>0</td>\n",
       "      <td>0</td>\n",
       "    </tr>\n",
       "    <tr>\n",
       "      <th>114.0</th>\n",
       "      <td>0</td>\n",
       "      <td>0.0</td>\n",
       "      <td>0.0</td>\n",
       "      <td>0.0</td>\n",
       "      <td>0</td>\n",
       "      <td>0</td>\n",
       "      <td>0</td>\n",
       "      <td>0.0</td>\n",
       "      <td>0</td>\n",
       "      <td>0</td>\n",
       "      <td>...</td>\n",
       "      <td>0.0</td>\n",
       "      <td>0</td>\n",
       "      <td>0</td>\n",
       "      <td>0</td>\n",
       "      <td>0</td>\n",
       "      <td>0</td>\n",
       "      <td>0.0</td>\n",
       "      <td>0</td>\n",
       "      <td>0</td>\n",
       "      <td>0</td>\n",
       "    </tr>\n",
       "    <tr>\n",
       "      <th>165.0</th>\n",
       "      <td>0</td>\n",
       "      <td>0.0</td>\n",
       "      <td>0.0</td>\n",
       "      <td>0.0</td>\n",
       "      <td>0</td>\n",
       "      <td>0</td>\n",
       "      <td>0</td>\n",
       "      <td>0.0</td>\n",
       "      <td>0</td>\n",
       "      <td>0</td>\n",
       "      <td>...</td>\n",
       "      <td>0.0</td>\n",
       "      <td>0</td>\n",
       "      <td>0</td>\n",
       "      <td>0</td>\n",
       "      <td>0</td>\n",
       "      <td>0</td>\n",
       "      <td>0.0</td>\n",
       "      <td>0</td>\n",
       "      <td>0</td>\n",
       "      <td>0</td>\n",
       "    </tr>\n",
       "    <tr>\n",
       "      <th>183.0</th>\n",
       "      <td>0</td>\n",
       "      <td>0.0</td>\n",
       "      <td>0.0</td>\n",
       "      <td>0.0</td>\n",
       "      <td>0</td>\n",
       "      <td>0</td>\n",
       "      <td>0</td>\n",
       "      <td>0.0</td>\n",
       "      <td>0</td>\n",
       "      <td>0</td>\n",
       "      <td>...</td>\n",
       "      <td>0.0</td>\n",
       "      <td>0</td>\n",
       "      <td>0</td>\n",
       "      <td>0</td>\n",
       "      <td>0</td>\n",
       "      <td>0</td>\n",
       "      <td>0.0</td>\n",
       "      <td>0</td>\n",
       "      <td>0</td>\n",
       "      <td>0</td>\n",
       "    </tr>\n",
       "    <tr>\n",
       "      <th>226.0</th>\n",
       "      <td>0</td>\n",
       "      <td>0.0</td>\n",
       "      <td>0.0</td>\n",
       "      <td>0.0</td>\n",
       "      <td>0</td>\n",
       "      <td>0</td>\n",
       "      <td>0</td>\n",
       "      <td>0.0</td>\n",
       "      <td>0</td>\n",
       "      <td>0</td>\n",
       "      <td>...</td>\n",
       "      <td>0.0</td>\n",
       "      <td>0</td>\n",
       "      <td>0</td>\n",
       "      <td>0</td>\n",
       "      <td>0</td>\n",
       "      <td>0</td>\n",
       "      <td>0.0</td>\n",
       "      <td>0</td>\n",
       "      <td>0</td>\n",
       "      <td>0</td>\n",
       "    </tr>\n",
       "    <tr>\n",
       "      <th>242.0</th>\n",
       "      <td>0</td>\n",
       "      <td>0.0</td>\n",
       "      <td>0.0</td>\n",
       "      <td>0.0</td>\n",
       "      <td>0</td>\n",
       "      <td>0</td>\n",
       "      <td>0</td>\n",
       "      <td>0.0</td>\n",
       "      <td>0</td>\n",
       "      <td>0</td>\n",
       "      <td>...</td>\n",
       "      <td>0.0</td>\n",
       "      <td>0</td>\n",
       "      <td>0</td>\n",
       "      <td>0</td>\n",
       "      <td>0</td>\n",
       "      <td>0</td>\n",
       "      <td>0.0</td>\n",
       "      <td>0</td>\n",
       "      <td>0</td>\n",
       "      <td>0</td>\n",
       "    </tr>\n",
       "    <tr>\n",
       "      <th>243.0</th>\n",
       "      <td>0</td>\n",
       "      <td>0.0</td>\n",
       "      <td>0.0</td>\n",
       "      <td>0.0</td>\n",
       "      <td>0</td>\n",
       "      <td>0</td>\n",
       "      <td>7</td>\n",
       "      <td>7.0</td>\n",
       "      <td>0</td>\n",
       "      <td>0</td>\n",
       "      <td>...</td>\n",
       "      <td>0.0</td>\n",
       "      <td>0</td>\n",
       "      <td>0</td>\n",
       "      <td>0</td>\n",
       "      <td>0</td>\n",
       "      <td>0</td>\n",
       "      <td>0.0</td>\n",
       "      <td>0</td>\n",
       "      <td>0</td>\n",
       "      <td>0</td>\n",
       "    </tr>\n",
       "  </tbody>\n",
       "</table>\n",
       "<p>10 rows × 164 columns</p>\n",
       "</div>"
      ],
      "text/plain": [
       "book_title  1984  1st to Die: A Novel  2nd Chance  A Bend in the Road  \\\n",
       "user_id                                                                 \n",
       "16.0           0                  0.0         0.0                 0.0   \n",
       "26.0           0                  0.0         0.0                 0.0   \n",
       "51.0           0                  0.0         0.0                 0.0   \n",
       "91.0           0                  0.0         0.0                 0.0   \n",
       "114.0          0                  0.0         0.0                 0.0   \n",
       "165.0          0                  0.0         0.0                 0.0   \n",
       "183.0          0                  0.0         0.0                 0.0   \n",
       "226.0          0                  0.0         0.0                 0.0   \n",
       "242.0          0                  0.0         0.0                 0.0   \n",
       "243.0          0                  0.0         0.0                 0.0   \n",
       "\n",
       "book_title  A Child Called \\It\\\": One Child's Courage to Survive\"  \\\n",
       "user_id                                                             \n",
       "16.0                                                        0       \n",
       "26.0                                                        0       \n",
       "51.0                                                        0       \n",
       "91.0                                                        0       \n",
       "114.0                                                       0       \n",
       "165.0                                                       0       \n",
       "183.0                                                       0       \n",
       "226.0                                                       0       \n",
       "242.0                                                       0       \n",
       "243.0                                                       0       \n",
       "\n",
       "book_title  A Heartbreaking Work of Staggering Genius  A Map of the World  \\\n",
       "user_id                                                                     \n",
       "16.0                                                0                   0   \n",
       "26.0                                                0                   0   \n",
       "51.0                                                0                   0   \n",
       "91.0                                                0                   0   \n",
       "114.0                                               0                   0   \n",
       "165.0                                               0                   0   \n",
       "183.0                                               0                   0   \n",
       "226.0                                               0                   0   \n",
       "242.0                                               0                   0   \n",
       "243.0                                               0                   7   \n",
       "\n",
       "book_title  A Painted House  A Prayer for Owen Meany  A Time to Kill  ...  \\\n",
       "user_id                                                               ...   \n",
       "16.0                    0.0                        0               0  ...   \n",
       "26.0                    0.0                        0               0  ...   \n",
       "51.0                    0.0                        0               0  ...   \n",
       "91.0                    0.0                        0               0  ...   \n",
       "114.0                   0.0                        0               0  ...   \n",
       "165.0                   0.0                        0               0  ...   \n",
       "183.0                   0.0                        0               0  ...   \n",
       "226.0                   0.0                        0               0  ...   \n",
       "242.0                   0.0                        0               0  ...   \n",
       "243.0                   7.0                        0               0  ...   \n",
       "\n",
       "book_title  Violets Are Blue  Watership Down  We Were the Mulvaneys  \\\n",
       "user_id                                                               \n",
       "16.0                     0.0               0                      0   \n",
       "26.0                     0.0               0                      0   \n",
       "51.0                     0.0               0                      0   \n",
       "91.0                     0.0               0                      0   \n",
       "114.0                    0.0               0                      0   \n",
       "165.0                    0.0               0                      0   \n",
       "183.0                    0.0               0                      0   \n",
       "226.0                    0.0               0                      0   \n",
       "242.0                    0.0               0                      0   \n",
       "243.0                    0.0               0                      0   \n",
       "\n",
       "book_title  When the Wind Blows  \\\n",
       "user_id                           \n",
       "16.0                          0   \n",
       "26.0                          0   \n",
       "51.0                          0   \n",
       "91.0                          0   \n",
       "114.0                         0   \n",
       "165.0                         0   \n",
       "183.0                         0   \n",
       "226.0                         0   \n",
       "242.0                         0   \n",
       "243.0                         0   \n",
       "\n",
       "book_title  Where the Heart Is (Oprah's Book Club (Paperback))  \\\n",
       "user_id                                                          \n",
       "16.0                                                        0    \n",
       "26.0                                                        0    \n",
       "51.0                                                        0    \n",
       "91.0                                                        0    \n",
       "114.0                                                       0    \n",
       "165.0                                                       0    \n",
       "183.0                                                       0    \n",
       "226.0                                                       0    \n",
       "242.0                                                       0    \n",
       "243.0                                                       0    \n",
       "\n",
       "book_title  While I Was Gone  White Oleander : A Novel  \\\n",
       "user_id                                                  \n",
       "16.0                       0                       0.0   \n",
       "26.0                       0                       0.0   \n",
       "51.0                       0                       0.0   \n",
       "91.0                       0                       0.0   \n",
       "114.0                      0                       0.0   \n",
       "165.0                      0                       0.0   \n",
       "183.0                      0                       0.0   \n",
       "226.0                      0                       0.0   \n",
       "242.0                      0                       0.0   \n",
       "243.0                      0                       0.0   \n",
       "\n",
       "book_title  White Oleander : A Novel (Oprah's Book Club)  \\\n",
       "user_id                                                    \n",
       "16.0                                                   0   \n",
       "26.0                                                   0   \n",
       "51.0                                                   0   \n",
       "91.0                                                   0   \n",
       "114.0                                                  0   \n",
       "165.0                                                  0   \n",
       "183.0                                                  0   \n",
       "226.0                                                  0   \n",
       "242.0                                                  0   \n",
       "243.0                                                  0   \n",
       "\n",
       "book_title  Wicked: The Life and Times of the Wicked Witch of the West  \\\n",
       "user_id                                                                  \n",
       "16.0                                                        0            \n",
       "26.0                                                        0            \n",
       "51.0                                                        0            \n",
       "91.0                                                        0            \n",
       "114.0                                                       0            \n",
       "165.0                                                       0            \n",
       "183.0                                                       0            \n",
       "226.0                                                       0            \n",
       "242.0                                                       0            \n",
       "243.0                                                       0            \n",
       "\n",
       "book_title  Wild Animus  \n",
       "user_id                  \n",
       "16.0                  0  \n",
       "26.0                  0  \n",
       "51.0                  0  \n",
       "91.0                  0  \n",
       "114.0                 0  \n",
       "165.0                 0  \n",
       "183.0                 0  \n",
       "226.0                 0  \n",
       "242.0                 0  \n",
       "243.0                 0  \n",
       "\n",
       "[10 rows x 164 columns]"
      ]
     },
     "execution_count": 63,
     "metadata": {},
     "output_type": "execute_result"
    }
   ],
   "source": [
    "#Let's create the User-Book matrix for the frequently read books\n",
    "books_user_df = frequent_books.pivot_table(index=[\"user_id\"], columns=[\"book_title\"], values=\"rating\",fill_value=0)\n",
    "books_user_df.head(10)"
   ]
  },
  {
   "cell_type": "code",
   "execution_count": 64,
   "id": "dbea979f",
   "metadata": {},
   "outputs": [
    {
     "data": {
      "text/plain": [
       "(14106, 164)"
      ]
     },
     "execution_count": 64,
     "metadata": {},
     "output_type": "execute_result"
    }
   ],
   "source": [
    "books_user_df.shape"
   ]
  },
  {
   "cell_type": "code",
   "execution_count": 65,
   "id": "99b7de98",
   "metadata": {},
   "outputs": [],
   "source": [
    "book=\"To Kill a Mockingbird\""
   ]
  },
  {
   "cell_type": "code",
   "execution_count": 66,
   "id": "56948fca",
   "metadata": {},
   "outputs": [
    {
     "data": {
      "text/plain": [
       "user_id\n",
       "138543.0    10\n",
       "37712.0     10\n",
       "31556.0     10\n",
       "160509.0    10\n",
       "108827.0    10\n",
       "            ..\n",
       "84164.0      0\n",
       "84174.0      0\n",
       "84178.0      0\n",
       "84226.0      0\n",
       "278846.0     0\n",
       "Name: To Kill a Mockingbird, Length: 14106, dtype: int64"
      ]
     },
     "execution_count": 66,
     "metadata": {},
     "output_type": "execute_result"
    }
   ],
   "source": [
    "book=books_user_df[book]\n",
    "book.sort_values(ascending=False)"
   ]
  },
  {
   "cell_type": "code",
   "execution_count": 67,
   "id": "a434e0d4",
   "metadata": {},
   "outputs": [
    {
     "data": {
      "text/plain": [
       "book_title\n",
       "To Kill a Mockingbird                               1.000000\n",
       "Lord of the Flies                                   0.081894\n",
       "Brave New World                                     0.079276\n",
       "The Catcher in the Rye                              0.079031\n",
       "The Color Purple                                    0.074497\n",
       "Animal Farm                                         0.063574\n",
       "Harry Potter and the Chamber of Secrets (Book 2)    0.056715\n",
       "Snow Falling on Cedars                              0.055598\n",
       "The Joy Luck Club                                   0.053751\n",
       "STONES FROM THE RIVER                               0.053739\n",
       "dtype: float64"
      ]
     },
     "execution_count": 67,
     "metadata": {},
     "output_type": "execute_result"
    }
   ],
   "source": [
    "books_user_df.corrwith(book,method='pearson').sort_values(ascending=False)[:10]"
   ]
  },
  {
   "cell_type": "code",
   "execution_count": 68,
   "id": "7c962e9b",
   "metadata": {},
   "outputs": [
    {
     "data": {
      "text/plain": [
       "['To Kill a Mockingbird',\n",
       " 'Lord of the Flies',\n",
       " 'Brave New World',\n",
       " 'The Catcher in the Rye',\n",
       " 'The Color Purple',\n",
       " 'Animal Farm',\n",
       " 'Harry Potter and the Chamber of Secrets (Book 2)',\n",
       " 'Snow Falling on Cedars',\n",
       " 'The Joy Luck Club',\n",
       " 'STONES FROM THE RIVER']"
      ]
     },
     "execution_count": 68,
     "metadata": {},
     "output_type": "execute_result"
    }
   ],
   "source": [
    "recommend_books=books_user_df.corrwith(book).sort_values(ascending=False)[:10]\n",
    "rec_books_list=list(recommend_books.index)\n",
    "\n",
    "rec_books_list\n"
   ]
  },
  {
   "cell_type": "markdown",
   "id": "0a7f71cf",
   "metadata": {},
   "source": [
    "# MODEL BASED COLLABORATIVE FILTERING 1"
   ]
  },
  {
   "cell_type": "code",
   "execution_count": 2,
   "id": "894f6130",
   "metadata": {
    "scrolled": true
   },
   "outputs": [],
   "source": [
    "%%capture\n",
    "!pip install scikit-surprise"
   ]
  },
  {
   "cell_type": "code",
   "execution_count": 3,
   "id": "4968484b",
   "metadata": {
    "scrolled": false
   },
   "outputs": [
    {
     "name": "stdout",
     "output_type": "stream",
     "text": [
      "Collecting surprise"
     ]
    },
    {
     "name": "stderr",
     "output_type": "stream",
     "text": [
      "  ERROR: Command errored out with exit status 1:\n",
      "   command: 'C:\\ANACONDA\\python.exe' -u -c 'import io, os, sys, setuptools, tokenize; sys.argv[0] = '\"'\"'C:\\\\Users\\\\Tech Merge\\\\AppData\\\\Local\\\\Temp\\\\pip-install-0dr0dymw\\\\scikit-surprise_f0df9b77d9ac473c9a9d2bbd4a6a8d3d\\\\setup.py'\"'\"'; __file__='\"'\"'C:\\\\Users\\\\Tech Merge\\\\AppData\\\\Local\\\\Temp\\\\pip-install-0dr0dymw\\\\scikit-surprise_f0df9b77d9ac473c9a9d2bbd4a6a8d3d\\\\setup.py'\"'\"';f = getattr(tokenize, '\"'\"'open'\"'\"', open)(__file__) if os.path.exists(__file__) else io.StringIO('\"'\"'from setuptools import setup; setup()'\"'\"');code = f.read().replace('\"'\"'\\r\\n'\"'\"', '\"'\"'\\n'\"'\"');f.close();exec(compile(code, __file__, '\"'\"'exec'\"'\"'))' bdist_wheel -d 'C:\\Users\\Tech Merge\\AppData\\Local\\Temp\\pip-wheel-qrhyaaby'\n",
      "       cwd: C:\\Users\\Tech Merge\\AppData\\Local\\Temp\\pip-install-0dr0dymw\\scikit-surprise_f0df9b77d9ac473c9a9d2bbd4a6a8d3d\\\n",
      "  Complete output (50 lines):\n",
      "  running bdist_wheel\n",
      "  running build\n",
      "  running build_py\n",
      "  creating build\n",
      "  creating build\\lib.win-amd64-3.9\n",
      "  creating build\\lib.win-amd64-3.9\\surprise\n",
      "  copying surprise\\accuracy.py -> build\\lib.win-amd64-3.9\\surprise\n",
      "  copying surprise\\builtin_datasets.py -> build\\lib.win-amd64-3.9\\surprise\n",
      "  copying surprise\\dataset.py -> build\\lib.win-amd64-3.9\\surprise\n",
      "  copying surprise\\dump.py -> build\\lib.win-amd64-3.9\\surprise\n",
      "  copying surprise\\reader.py -> build\\lib.win-amd64-3.9\\surprise\n",
      "  copying surprise\\trainset.py -> build\\lib.win-amd64-3.9\\surprise\n",
      "  copying surprise\\utils.py -> build\\lib.win-amd64-3.9\\surprise\n",
      "  copying surprise\\__init__.py -> build\\lib.win-amd64-3.9\\surprise\n",
      "  copying surprise\\__main__.py -> build\\lib.win-amd64-3.9\\surprise\n",
      "  creating build\\lib.win-amd64-3.9\\surprise\\model_selection\n",
      "  copying surprise\\model_selection\\search.py -> build\\lib.win-amd64-3.9\\surprise\\model_selection\n",
      "  copying surprise\\model_selection\\split.py -> build\\lib.win-amd64-3.9\\surprise\\model_selection\n",
      "  copying surprise\\model_selection\\validation.py -> build\\lib.win-amd64-3.9\\surprise\\model_selection\n"
     ]
    },
    {
     "name": "stdout",
     "output_type": "stream",
     "text": [
      "\n",
      "  Using cached surprise-0.1-py2.py3-none-any.whl (1.8 kB)\n",
      "Collecting scikit-surprise\n",
      "  Using cached scikit-surprise-1.1.3.tar.gz (771 kB)\n",
      "Requirement already satisfied: joblib>=1.0.0 in c:\\anaconda\\lib\\site-packages (from scikit-surprise->surprise) (1.1.0)\n",
      "Requirement already satisfied: numpy>=1.17.3 in c:\\anaconda\\lib\\site-packages (from scikit-surprise->surprise) (1.20.3)\n",
      "Requirement already satisfied: scipy>=1.3.2 in c:\\anaconda\\lib\\site-packages (from scikit-surprise->surprise) (1.7.1)\n",
      "Building wheels for collected packages: scikit-surprise\n",
      "  Building wheel for scikit-surprise (setup.py): started\n",
      "  Building wheel for scikit-surprise (setup.py): finished with status 'error'\n",
      "  Running setup.py clean for scikit-surprise\n",
      "Failed to build scikit-surprise\n",
      "Installing collected packages: scikit-surprise, surprise\n",
      "    Running setup.py install for scikit-surprise: started\n",
      "    Running setup.py install for scikit-surprise: finished with status 'error'\n"
     ]
    },
    {
     "name": "stderr",
     "output_type": "stream",
     "text": [
      "  copying surprise\\model_selection\\__init__.py -> build\\lib.win-amd64-3.9\\surprise\\model_selection\n",
      "  creating build\\lib.win-amd64-3.9\\surprise\\prediction_algorithms\n",
      "  copying surprise\\prediction_algorithms\\algo_base.py -> build\\lib.win-amd64-3.9\\surprise\\prediction_algorithms\n",
      "  copying surprise\\prediction_algorithms\\baseline_only.py -> build\\lib.win-amd64-3.9\\surprise\\prediction_algorithms\n",
      "  copying surprise\\prediction_algorithms\\knns.py -> build\\lib.win-amd64-3.9\\surprise\\prediction_algorithms\n",
      "  copying surprise\\prediction_algorithms\\predictions.py -> build\\lib.win-amd64-3.9\\surprise\\prediction_algorithms\n",
      "  copying surprise\\prediction_algorithms\\random_pred.py -> build\\lib.win-amd64-3.9\\surprise\\prediction_algorithms\n",
      "  copying surprise\\prediction_algorithms\\__init__.py -> build\\lib.win-amd64-3.9\\surprise\\prediction_algorithms\n",
      "  running egg_info\n",
      "  writing scikit_surprise.egg-info\\PKG-INFO\n",
      "  writing dependency_links to scikit_surprise.egg-info\\dependency_links.txt\n",
      "  writing entry points to scikit_surprise.egg-info\\entry_points.txt\n",
      "  writing requirements to scikit_surprise.egg-info\\requires.txt\n",
      "  writing top-level names to scikit_surprise.egg-info\\top_level.txt\n",
      "  reading manifest file 'scikit_surprise.egg-info\\SOURCES.txt'\n",
      "  reading manifest template 'MANIFEST.in'\n",
      "  adding license file 'LICENSE.md'\n",
      "  writing manifest file 'scikit_surprise.egg-info\\SOURCES.txt'\n",
      "  copying surprise\\similarities.c -> build\\lib.win-amd64-3.9\\surprise\n",
      "  copying surprise\\similarities.pyx -> build\\lib.win-amd64-3.9\\surprise\n",
      "  copying surprise\\prediction_algorithms\\co_clustering.c -> build\\lib.win-amd64-3.9\\surprise\\prediction_algorithms\n",
      "  copying surprise\\prediction_algorithms\\matrix_factorization.c -> build\\lib.win-amd64-3.9\\surprise\\prediction_algorithms\n",
      "  copying surprise\\prediction_algorithms\\optimize_baselines.c -> build\\lib.win-amd64-3.9\\surprise\\prediction_algorithms\n",
      "  copying surprise\\prediction_algorithms\\slope_one.c -> build\\lib.win-amd64-3.9\\surprise\\prediction_algorithms\n",
      "  copying surprise\\prediction_algorithms\\co_clustering.pyx -> build\\lib.win-amd64-3.9\\surprise\\prediction_algorithms\n",
      "  copying surprise\\prediction_algorithms\\matrix_factorization.pyx -> build\\lib.win-amd64-3.9\\surprise\\prediction_algorithms\n",
      "  copying surprise\\prediction_algorithms\\optimize_baselines.pyx -> build\\lib.win-amd64-3.9\\surprise\\prediction_algorithms\n",
      "  copying surprise\\prediction_algorithms\\slope_one.pyx -> build\\lib.win-amd64-3.9\\surprise\\prediction_algorithms\n",
      "  running build_ext\n",
      "  building 'surprise.similarities' extension\n",
      "  error: Microsoft Visual C++ 14.0 or greater is required. Get it with \"Microsoft C++ Build Tools\": https://visualstudio.microsoft.com/visual-cpp-build-tools/\n",
      "  ----------------------------------------\n",
      "  ERROR: Failed building wheel for scikit-surprise\n",
      "    ERROR: Command errored out with exit status 1:\n",
      "     command: 'C:\\ANACONDA\\python.exe' -u -c 'import io, os, sys, setuptools, tokenize; sys.argv[0] = '\"'\"'C:\\\\Users\\\\Tech Merge\\\\AppData\\\\Local\\\\Temp\\\\pip-install-0dr0dymw\\\\scikit-surprise_f0df9b77d9ac473c9a9d2bbd4a6a8d3d\\\\setup.py'\"'\"'; __file__='\"'\"'C:\\\\Users\\\\Tech Merge\\\\AppData\\\\Local\\\\Temp\\\\pip-install-0dr0dymw\\\\scikit-surprise_f0df9b77d9ac473c9a9d2bbd4a6a8d3d\\\\setup.py'\"'\"';f = getattr(tokenize, '\"'\"'open'\"'\"', open)(__file__) if os.path.exists(__file__) else io.StringIO('\"'\"'from setuptools import setup; setup()'\"'\"');code = f.read().replace('\"'\"'\\r\\n'\"'\"', '\"'\"'\\n'\"'\"');f.close();exec(compile(code, __file__, '\"'\"'exec'\"'\"'))' install --record 'C:\\Users\\Tech Merge\\AppData\\Local\\Temp\\pip-record-vvtvty5g\\install-record.txt' --single-version-externally-managed --compile --install-headers 'C:\\ANACONDA\\Include\\scikit-surprise'\n",
      "         cwd: C:\\Users\\Tech Merge\\AppData\\Local\\Temp\\pip-install-0dr0dymw\\scikit-surprise_f0df9b77d9ac473c9a9d2bbd4a6a8d3d\\\n",
      "    Complete output (50 lines):\n",
      "    running install\n",
      "    running build\n",
      "    running build_py\n",
      "    creating build\n",
      "    creating build\\lib.win-amd64-3.9\n",
      "    creating build\\lib.win-amd64-3.9\\surprise\n",
      "    copying surprise\\accuracy.py -> build\\lib.win-amd64-3.9\\surprise\n",
      "    copying surprise\\builtin_datasets.py -> build\\lib.win-amd64-3.9\\surprise\n",
      "    copying surprise\\dataset.py -> build\\lib.win-amd64-3.9\\surprise\n",
      "    copying surprise\\dump.py -> build\\lib.win-amd64-3.9\\surprise\n",
      "    copying surprise\\reader.py -> build\\lib.win-amd64-3.9\\surprise\n",
      "    copying surprise\\trainset.py -> build\\lib.win-amd64-3.9\\surprise\n",
      "    copying surprise\\utils.py -> build\\lib.win-amd64-3.9\\surprise\n",
      "    copying surprise\\__init__.py -> build\\lib.win-amd64-3.9\\surprise\n",
      "    copying surprise\\__main__.py -> build\\lib.win-amd64-3.9\\surprise\n",
      "    creating build\\lib.win-amd64-3.9\\surprise\\model_selection\n",
      "    copying surprise\\model_selection\\search.py -> build\\lib.win-amd64-3.9\\surprise\\model_selection\n",
      "    copying surprise\\model_selection\\split.py -> build\\lib.win-amd64-3.9\\surprise\\model_selection\n",
      "    copying surprise\\model_selection\\validation.py -> build\\lib.win-amd64-3.9\\surprise\\model_selection\n",
      "    copying surprise\\model_selection\\__init__.py -> build\\lib.win-amd64-3.9\\surprise\\model_selection\n",
      "    creating build\\lib.win-amd64-3.9\\surprise\\prediction_algorithms\n",
      "    copying surprise\\prediction_algorithms\\algo_base.py -> build\\lib.win-amd64-3.9\\surprise\\prediction_algorithms\n",
      "    copying surprise\\prediction_algorithms\\baseline_only.py -> build\\lib.win-amd64-3.9\\surprise\\prediction_algorithms\n",
      "    copying surprise\\prediction_algorithms\\knns.py -> build\\lib.win-amd64-3.9\\surprise\\prediction_algorithms\n",
      "    copying surprise\\prediction_algorithms\\predictions.py -> build\\lib.win-amd64-3.9\\surprise\\prediction_algorithms\n",
      "    copying surprise\\prediction_algorithms\\random_pred.py -> build\\lib.win-amd64-3.9\\surprise\\prediction_algorithms\n",
      "    copying surprise\\prediction_algorithms\\__init__.py -> build\\lib.win-amd64-3.9\\surprise\\prediction_algorithms\n",
      "    running egg_info\n",
      "    writing scikit_surprise.egg-info\\PKG-INFO\n",
      "    writing dependency_links to scikit_surprise.egg-info\\dependency_links.txt\n",
      "    writing entry points to scikit_surprise.egg-info\\entry_points.txt\n",
      "    writing requirements to scikit_surprise.egg-info\\requires.txt\n",
      "    writing top-level names to scikit_surprise.egg-info\\top_level.txt\n",
      "    reading manifest file 'scikit_surprise.egg-info\\SOURCES.txt'\n",
      "    reading manifest template 'MANIFEST.in'\n",
      "    adding license file 'LICENSE.md'\n",
      "    writing manifest file 'scikit_surprise.egg-info\\SOURCES.txt'\n",
      "    copying surprise\\similarities.c -> build\\lib.win-amd64-3.9\\surprise\n",
      "    copying surprise\\similarities.pyx -> build\\lib.win-amd64-3.9\\surprise\n",
      "    copying surprise\\prediction_algorithms\\co_clustering.c -> build\\lib.win-amd64-3.9\\surprise\\prediction_algorithms\n",
      "    copying surprise\\prediction_algorithms\\matrix_factorization.c -> build\\lib.win-amd64-3.9\\surprise\\prediction_algorithms\n",
      "    copying surprise\\prediction_algorithms\\optimize_baselines.c -> build\\lib.win-amd64-3.9\\surprise\\prediction_algorithms\n",
      "    copying surprise\\prediction_algorithms\\slope_one.c -> build\\lib.win-amd64-3.9\\surprise\\prediction_algorithms\n",
      "    copying surprise\\prediction_algorithms\\co_clustering.pyx -> build\\lib.win-amd64-3.9\\surprise\\prediction_algorithms\n",
      "    copying surprise\\prediction_algorithms\\matrix_factorization.pyx -> build\\lib.win-amd64-3.9\\surprise\\prediction_algorithms\n",
      "    copying surprise\\prediction_algorithms\\optimize_baselines.pyx -> build\\lib.win-amd64-3.9\\surprise\\prediction_algorithms\n",
      "    copying surprise\\prediction_algorithms\\slope_one.pyx -> build\\lib.win-amd64-3.9\\surprise\\prediction_algorithms\n",
      "    running build_ext\n",
      "    building 'surprise.similarities' extension\n",
      "    error: Microsoft Visual C++ 14.0 or greater is required. Get it with \"Microsoft C++ Build Tools\": https://visualstudio.microsoft.com/visual-cpp-build-tools/\n",
      "    ----------------------------------------\n",
      "ERROR: Command errored out with exit status 1: 'C:\\ANACONDA\\python.exe' -u -c 'import io, os, sys, setuptools, tokenize; sys.argv[0] = '\"'\"'C:\\\\Users\\\\Tech Merge\\\\AppData\\\\Local\\\\Temp\\\\pip-install-0dr0dymw\\\\scikit-surprise_f0df9b77d9ac473c9a9d2bbd4a6a8d3d\\\\setup.py'\"'\"'; __file__='\"'\"'C:\\\\Users\\\\Tech Merge\\\\AppData\\\\Local\\\\Temp\\\\pip-install-0dr0dymw\\\\scikit-surprise_f0df9b77d9ac473c9a9d2bbd4a6a8d3d\\\\setup.py'\"'\"';f = getattr(tokenize, '\"'\"'open'\"'\"', open)(__file__) if os.path.exists(__file__) else io.StringIO('\"'\"'from setuptools import setup; setup()'\"'\"');code = f.read().replace('\"'\"'\\r\\n'\"'\"', '\"'\"'\\n'\"'\"');f.close();exec(compile(code, __file__, '\"'\"'exec'\"'\"'))' install --record 'C:\\Users\\Tech Merge\\AppData\\Local\\Temp\\pip-record-vvtvty5g\\install-record.txt' --single-version-externally-managed --compile --install-headers 'C:\\ANACONDA\\Include\\scikit-surprise' Check the logs for full command output.\n"
     ]
    }
   ],
   "source": [
    "!pip install surprise"
   ]
  },
  {
   "cell_type": "code",
   "execution_count": 4,
   "id": "a5af7428",
   "metadata": {},
   "outputs": [
    {
     "name": "stdout",
     "output_type": "stream",
     "text": [
      "Collecting scikit-surprise==1.0.4\n",
      "  Using cached scikit-surprise-1.0.4.tar.gz (2.3 MB)\n",
      "Requirement already satisfied: numpy>=1.11.2 in c:\\anaconda\\lib\\site-packages (from scikit-surprise==1.0.4) (1.20.3)\n",
      "Requirement already satisfied: six>=1.10.0 in c:\\anaconda\\lib\\site-packages (from scikit-surprise==1.0.4) (1.16.0)\n",
      "Building wheels for collected packages: scikit-surprise\n",
      "  Building wheel for scikit-surprise (setup.py): started\n",
      "  Building wheel for scikit-surprise (setup.py): finished with status 'error'\n",
      "  Running setup.py clean for scikit-surprise\n",
      "Failed to build scikit-surprise\n",
      "Installing collected packages: scikit-surprise\n",
      "    Running setup.py install for scikit-surprise: started\n",
      "    Running setup.py install for scikit-surprise: finished with status 'error'\n"
     ]
    },
    {
     "name": "stderr",
     "output_type": "stream",
     "text": [
      "  ERROR: Command errored out with exit status 1:\n",
      "   command: 'C:\\ANACONDA\\python.exe' -u -c 'import io, os, sys, setuptools, tokenize; sys.argv[0] = '\"'\"'C:\\\\Users\\\\Tech Merge\\\\AppData\\\\Local\\\\Temp\\\\pip-install-tfr0wvz5\\\\scikit-surprise_73328b23116344069c5be91efa6b2b01\\\\setup.py'\"'\"'; __file__='\"'\"'C:\\\\Users\\\\Tech Merge\\\\AppData\\\\Local\\\\Temp\\\\pip-install-tfr0wvz5\\\\scikit-surprise_73328b23116344069c5be91efa6b2b01\\\\setup.py'\"'\"';f = getattr(tokenize, '\"'\"'open'\"'\"', open)(__file__) if os.path.exists(__file__) else io.StringIO('\"'\"'from setuptools import setup; setup()'\"'\"');code = f.read().replace('\"'\"'\\r\\n'\"'\"', '\"'\"'\\n'\"'\"');f.close();exec(compile(code, __file__, '\"'\"'exec'\"'\"'))' bdist_wheel -d 'C:\\Users\\Tech Merge\\AppData\\Local\\Temp\\pip-wheel-_zh6q_st'\n",
      "       cwd: C:\\Users\\Tech Merge\\AppData\\Local\\Temp\\pip-install-tfr0wvz5\\scikit-surprise_73328b23116344069c5be91efa6b2b01\\\n",
      "  Complete output (44 lines):\n",
      "  C:\\ANACONDA\\lib\\site-packages\\setuptools\\dist.py:717: UserWarning: Usage of dash-separated 'description-file' will not be supported in future versions. Please use the underscore name 'description_file' instead\n",
      "    warnings.warn(\n",
      "  running bdist_wheel\n",
      "  running build\n",
      "  running build_py\n",
      "  creating build\n",
      "  creating build\\lib.win-amd64-3.9\n",
      "  creating build\\lib.win-amd64-3.9\\surprise\n",
      "  copying surprise\\accuracy.py -> build\\lib.win-amd64-3.9\\surprise\n",
      "  copying surprise\\dataset.py -> build\\lib.win-amd64-3.9\\surprise\n",
      "  copying surprise\\dump.py -> build\\lib.win-amd64-3.9\\surprise\n",
      "  copying surprise\\evaluate.py -> build\\lib.win-amd64-3.9\\surprise\n",
      "  copying surprise\\__init__.py -> build\\lib.win-amd64-3.9\\surprise\n",
      "  copying surprise\\__main__.py -> build\\lib.win-amd64-3.9\\surprise\n",
      "  creating build\\lib.win-amd64-3.9\\surprise\\prediction_algorithms\n",
      "  copying surprise\\prediction_algorithms\\algo_base.py -> build\\lib.win-amd64-3.9\\surprise\\prediction_algorithms\n",
      "  copying surprise\\prediction_algorithms\\baseline_only.py -> build\\lib.win-amd64-3.9\\surprise\\prediction_algorithms\n",
      "  copying surprise\\prediction_algorithms\\knns.py -> build\\lib.win-amd64-3.9\\surprise\\prediction_algorithms\n",
      "  copying surprise\\prediction_algorithms\\predictions.py -> build\\lib.win-amd64-3.9\\surprise\\prediction_algorithms\n",
      "  copying surprise\\prediction_algorithms\\random_pred.py -> build\\lib.win-amd64-3.9\\surprise\\prediction_algorithms\n",
      "  copying surprise\\prediction_algorithms\\__init__.py -> build\\lib.win-amd64-3.9\\surprise\\prediction_algorithms\n",
      "  running egg_info\n",
      "  writing scikit_surprise.egg-info\\PKG-INFO\n",
      "  writing dependency_links to scikit_surprise.egg-info\\dependency_links.txt\n",
      "  writing entry points to scikit_surprise.egg-info\\entry_points.txt\n",
      "  writing requirements to scikit_surprise.egg-info\\requires.txt\n",
      "  writing top-level names to scikit_surprise.egg-info\\top_level.txt\n",
      "  reading manifest file 'scikit_surprise.egg-info\\SOURCES.txt'\n",
      "  reading manifest template 'MANIFEST.in'\n",
      "  adding license file 'LICENSE.md'\n",
      "  writing manifest file 'scikit_surprise.egg-info\\SOURCES.txt'\n",
      "  copying surprise\\similarities.c -> build\\lib.win-amd64-3.9\\surprise\n",
      "  copying surprise\\similarities.pyx -> build\\lib.win-amd64-3.9\\surprise\n",
      "  copying surprise\\prediction_algorithms\\co_clustering.c -> build\\lib.win-amd64-3.9\\surprise\\prediction_algorithms\n",
      "  copying surprise\\prediction_algorithms\\matrix_factorization.c -> build\\lib.win-amd64-3.9\\surprise\\prediction_algorithms\n",
      "  copying surprise\\prediction_algorithms\\optimize_baselines.c -> build\\lib.win-amd64-3.9\\surprise\\prediction_algorithms\n",
      "  copying surprise\\prediction_algorithms\\slope_one.c -> build\\lib.win-amd64-3.9\\surprise\\prediction_algorithms\n",
      "  copying surprise\\prediction_algorithms\\co_clustering.pyx -> build\\lib.win-amd64-3.9\\surprise\\prediction_algorithms\n",
      "  copying surprise\\prediction_algorithms\\matrix_factorization.pyx -> build\\lib.win-amd64-3.9\\surprise\\prediction_algorithms\n",
      "  copying surprise\\prediction_algorithms\\optimize_baselines.pyx -> build\\lib.win-amd64-3.9\\surprise\\prediction_algorithms\n",
      "  copying surprise\\prediction_algorithms\\slope_one.pyx -> build\\lib.win-amd64-3.9\\surprise\\prediction_algorithms\n",
      "  running build_ext\n",
      "  building 'surprise.similarities' extension\n",
      "  error: Microsoft Visual C++ 14.0 or greater is required. Get it with \"Microsoft C++ Build Tools\": https://visualstudio.microsoft.com/visual-cpp-build-tools/\n",
      "  ----------------------------------------\n",
      "  ERROR: Failed building wheel for scikit-surprise\n",
      "    ERROR: Command errored out with exit status 1:\n",
      "     command: 'C:\\ANACONDA\\python.exe' -u -c 'import io, os, sys, setuptools, tokenize; sys.argv[0] = '\"'\"'C:\\\\Users\\\\Tech Merge\\\\AppData\\\\Local\\\\Temp\\\\pip-install-tfr0wvz5\\\\scikit-surprise_73328b23116344069c5be91efa6b2b01\\\\setup.py'\"'\"'; __file__='\"'\"'C:\\\\Users\\\\Tech Merge\\\\AppData\\\\Local\\\\Temp\\\\pip-install-tfr0wvz5\\\\scikit-surprise_73328b23116344069c5be91efa6b2b01\\\\setup.py'\"'\"';f = getattr(tokenize, '\"'\"'open'\"'\"', open)(__file__) if os.path.exists(__file__) else io.StringIO('\"'\"'from setuptools import setup; setup()'\"'\"');code = f.read().replace('\"'\"'\\r\\n'\"'\"', '\"'\"'\\n'\"'\"');f.close();exec(compile(code, __file__, '\"'\"'exec'\"'\"'))' install --record 'C:\\Users\\Tech Merge\\AppData\\Local\\Temp\\pip-record-7ajwrmnn\\install-record.txt' --single-version-externally-managed --compile --install-headers 'C:\\ANACONDA\\Include\\scikit-surprise'\n",
      "         cwd: C:\\Users\\Tech Merge\\AppData\\Local\\Temp\\pip-install-tfr0wvz5\\scikit-surprise_73328b23116344069c5be91efa6b2b01\\\n",
      "    Complete output (44 lines):\n",
      "    C:\\ANACONDA\\lib\\site-packages\\setuptools\\dist.py:717: UserWarning: Usage of dash-separated 'description-file' will not be supported in future versions. Please use the underscore name 'description_file' instead\n",
      "      warnings.warn(\n",
      "    running install\n",
      "    running build\n",
      "    running build_py\n",
      "    creating build\n",
      "    creating build\\lib.win-amd64-3.9\n",
      "    creating build\\lib.win-amd64-3.9\\surprise\n",
      "    copying surprise\\accuracy.py -> build\\lib.win-amd64-3.9\\surprise\n",
      "    copying surprise\\dataset.py -> build\\lib.win-amd64-3.9\\surprise\n",
      "    copying surprise\\dump.py -> build\\lib.win-amd64-3.9\\surprise\n",
      "    copying surprise\\evaluate.py -> build\\lib.win-amd64-3.9\\surprise\n",
      "    copying surprise\\__init__.py -> build\\lib.win-amd64-3.9\\surprise\n",
      "    copying surprise\\__main__.py -> build\\lib.win-amd64-3.9\\surprise\n",
      "    creating build\\lib.win-amd64-3.9\\surprise\\prediction_algorithms\n",
      "    copying surprise\\prediction_algorithms\\algo_base.py -> build\\lib.win-amd64-3.9\\surprise\\prediction_algorithms\n",
      "    copying surprise\\prediction_algorithms\\baseline_only.py -> build\\lib.win-amd64-3.9\\surprise\\prediction_algorithms\n",
      "    copying surprise\\prediction_algorithms\\knns.py -> build\\lib.win-amd64-3.9\\surprise\\prediction_algorithms\n",
      "    copying surprise\\prediction_algorithms\\predictions.py -> build\\lib.win-amd64-3.9\\surprise\\prediction_algorithms\n",
      "    copying surprise\\prediction_algorithms\\random_pred.py -> build\\lib.win-amd64-3.9\\surprise\\prediction_algorithms\n",
      "    copying surprise\\prediction_algorithms\\__init__.py -> build\\lib.win-amd64-3.9\\surprise\\prediction_algorithms\n",
      "    running egg_info\n",
      "    writing scikit_surprise.egg-info\\PKG-INFO\n",
      "    writing dependency_links to scikit_surprise.egg-info\\dependency_links.txt\n",
      "    writing entry points to scikit_surprise.egg-info\\entry_points.txt\n",
      "    writing requirements to scikit_surprise.egg-info\\requires.txt\n",
      "    writing top-level names to scikit_surprise.egg-info\\top_level.txt\n",
      "    reading manifest file 'scikit_surprise.egg-info\\SOURCES.txt'\n",
      "    reading manifest template 'MANIFEST.in'\n",
      "    adding license file 'LICENSE.md'\n",
      "    writing manifest file 'scikit_surprise.egg-info\\SOURCES.txt'\n",
      "    copying surprise\\similarities.c -> build\\lib.win-amd64-3.9\\surprise\n",
      "    copying surprise\\similarities.pyx -> build\\lib.win-amd64-3.9\\surprise\n",
      "    copying surprise\\prediction_algorithms\\co_clustering.c -> build\\lib.win-amd64-3.9\\surprise\\prediction_algorithms\n",
      "    copying surprise\\prediction_algorithms\\matrix_factorization.c -> build\\lib.win-amd64-3.9\\surprise\\prediction_algorithms\n",
      "    copying surprise\\prediction_algorithms\\optimize_baselines.c -> build\\lib.win-amd64-3.9\\surprise\\prediction_algorithms\n",
      "    copying surprise\\prediction_algorithms\\slope_one.c -> build\\lib.win-amd64-3.9\\surprise\\prediction_algorithms\n",
      "    copying surprise\\prediction_algorithms\\co_clustering.pyx -> build\\lib.win-amd64-3.9\\surprise\\prediction_algorithms\n",
      "    copying surprise\\prediction_algorithms\\matrix_factorization.pyx -> build\\lib.win-amd64-3.9\\surprise\\prediction_algorithms\n",
      "    copying surprise\\prediction_algorithms\\optimize_baselines.pyx -> build\\lib.win-amd64-3.9\\surprise\\prediction_algorithms\n",
      "    copying surprise\\prediction_algorithms\\slope_one.pyx -> build\\lib.win-amd64-3.9\\surprise\\prediction_algorithms\n",
      "    running build_ext\n",
      "    building 'surprise.similarities' extension\n",
      "    error: Microsoft Visual C++ 14.0 or greater is required. Get it with \"Microsoft C++ Build Tools\": https://visualstudio.microsoft.com/visual-cpp-build-tools/\n",
      "    ----------------------------------------\n",
      "ERROR: Command errored out with exit status 1: 'C:\\ANACONDA\\python.exe' -u -c 'import io, os, sys, setuptools, tokenize; sys.argv[0] = '\"'\"'C:\\\\Users\\\\Tech Merge\\\\AppData\\\\Local\\\\Temp\\\\pip-install-tfr0wvz5\\\\scikit-surprise_73328b23116344069c5be91efa6b2b01\\\\setup.py'\"'\"'; __file__='\"'\"'C:\\\\Users\\\\Tech Merge\\\\AppData\\\\Local\\\\Temp\\\\pip-install-tfr0wvz5\\\\scikit-surprise_73328b23116344069c5be91efa6b2b01\\\\setup.py'\"'\"';f = getattr(tokenize, '\"'\"'open'\"'\"', open)(__file__) if os.path.exists(__file__) else io.StringIO('\"'\"'from setuptools import setup; setup()'\"'\"');code = f.read().replace('\"'\"'\\r\\n'\"'\"', '\"'\"'\\n'\"'\"');f.close();exec(compile(code, __file__, '\"'\"'exec'\"'\"'))' install --record 'C:\\Users\\Tech Merge\\AppData\\Local\\Temp\\pip-record-7ajwrmnn\\install-record.txt' --single-version-externally-managed --compile --install-headers 'C:\\ANACONDA\\Include\\scikit-surprise' Check the logs for full command output.\n"
     ]
    }
   ],
   "source": [
    "!pip install scikit-surprise==1.0.4"
   ]
  },
  {
   "cell_type": "code",
   "execution_count": 3,
   "id": "4910e9d5",
   "metadata": {
    "scrolled": true
   },
   "outputs": [
    {
     "ename": "ModuleNotFoundError",
     "evalue": "No module named 'surprise'",
     "output_type": "error",
     "traceback": [
      "\u001b[1;31m---------------------------------------------------------------------------\u001b[0m",
      "\u001b[1;31mModuleNotFoundError\u001b[0m                       Traceback (most recent call last)",
      "\u001b[1;32mC:\\Users\\TECHME~1\\AppData\\Local\\Temp/ipykernel_13672/116457704.py\u001b[0m in \u001b[0;36m<module>\u001b[1;34m\u001b[0m\n\u001b[1;32m----> 1\u001b[1;33m \u001b[1;32mfrom\u001b[0m \u001b[0msurprise\u001b[0m \u001b[1;32mimport\u001b[0m \u001b[0mNMF\u001b[0m\u001b[1;33m,\u001b[0m \u001b[0mSVD\u001b[0m\u001b[1;33m,\u001b[0m \u001b[0mSVDpp\u001b[0m\u001b[1;33m,\u001b[0m \u001b[0mKNNBasic\u001b[0m\u001b[1;33m,\u001b[0m \u001b[0mKNNWithMeans\u001b[0m\u001b[1;33m,\u001b[0m \u001b[0mKNNWithZScore\u001b[0m\u001b[1;33m,\u001b[0m \u001b[0mCoClustering\u001b[0m\u001b[1;33m\u001b[0m\u001b[1;33m\u001b[0m\u001b[0m\n\u001b[0m\u001b[0;32m      2\u001b[0m \u001b[1;32mfrom\u001b[0m \u001b[0msurprise\u001b[0m\u001b[1;33m.\u001b[0m\u001b[0mmodel_selection\u001b[0m \u001b[1;32mimport\u001b[0m \u001b[0mcross_validate\u001b[0m\u001b[1;33m\u001b[0m\u001b[1;33m\u001b[0m\u001b[0m\n\u001b[0;32m      3\u001b[0m \u001b[1;32mfrom\u001b[0m \u001b[0msurprise\u001b[0m \u001b[1;32mimport\u001b[0m \u001b[0mReader\u001b[0m\u001b[1;33m,\u001b[0m \u001b[0mDataset\u001b[0m\u001b[1;33m\u001b[0m\u001b[1;33m\u001b[0m\u001b[0m\n",
      "\u001b[1;31mModuleNotFoundError\u001b[0m: No module named 'surprise'"
     ]
    }
   ],
   "source": [
    "from surprise import NMF, SVD, SVDpp, KNNBasic, KNNWithMeans, KNNWithZScore, CoClustering\n",
    "from surprise.model_selection import cross_validate\n",
    "from surprise import Reader, Dataset"
   ]
  },
  {
   "cell_type": "code",
   "execution_count": null,
   "id": "d906fb6c",
   "metadata": {},
   "outputs": [],
   "source": [
    "df_surprise1 = df[['user_id','book_title','rating']]"
   ]
  },
  {
   "cell_type": "code",
   "execution_count": null,
   "id": "903a026d",
   "metadata": {},
   "outputs": [],
   "source": []
  },
  {
   "cell_type": "code",
   "execution_count": null,
   "id": "bb326bf2",
   "metadata": {},
   "outputs": [],
   "source": [
    "df_surprise1.head()"
   ]
  },
  {
   "cell_type": "code",
   "execution_count": null,
   "id": "69f4bbb6",
   "metadata": {},
   "outputs": [],
   "source": [
    "df_surprise1.columns = ['user_id', 'item_id', 'rating']"
   ]
  },
  {
   "cell_type": "code",
   "execution_count": null,
   "id": "5e2eafe3",
   "metadata": {},
   "outputs": [],
   "source": [
    "df_surprise1.head()"
   ]
  },
  {
   "cell_type": "code",
   "execution_count": null,
   "id": "0a738ab1",
   "metadata": {},
   "outputs": [],
   "source": [
    "df_surprise1['reviews'] = df_surprise1.groupby(['itemID'])['rating'].transform('count')"
   ]
  },
  {
   "cell_type": "code",
   "execution_count": null,
   "id": "1b037244",
   "metadata": {},
   "outputs": [],
   "source": [
    "df_surprise1= df_surprise1[df_surprise1.reviews>100][['userID', 'itemID', 'rating']]\n",
    "df_surprise1.shape"
   ]
  },
  {
   "cell_type": "code",
   "execution_count": null,
   "id": "c1033710",
   "metadata": {},
   "outputs": [],
   "source": [
    "# A reader is still needed but only the rating_scale param is requiered.\n",
    "reader = Reader(rating_scale=(1, 10))\n",
    "data = Dataset.load_from_df(df_surprise1, reader)\n"
   ]
  },
  {
   "cell_type": "code",
   "execution_count": null,
   "id": "79070eac",
   "metadata": {},
   "outputs": [],
   "source": [
    "# get the list of the movie ids\n",
    "unique_ids = df_surprise1['itemID'].unique()\n",
    "\n",
    "# get the list of the ids that the userid 1001 has rated\n",
    "iids1001 = df_surprise1.loc[df_surprise1['userID']==1001, 'itemID']\n",
    "\n",
    "# remove the rated movies for the recommendations\n",
    "movies_to_predict = np.setdiff1d(unique_ids,iids1001)"
   ]
  },
  {
   "cell_type": "code",
   "execution_count": null,
   "id": "8b828704",
   "metadata": {},
   "outputs": [],
   "source": [
    "algo = NMF()\n",
    "algo.fit(data.build_full_trainset())\n",
    "\n",
    "my_recs = []\n",
    "for iid in movies_to_predict:\n",
    "    my_recs.append((iid, algo.predict(uid=1001,iid=iid).est))\n",
    "    \n",
    "pd.DataFrame(my_recs, columns=['iid', 'predictions']).sort_values('predictions', ascending=False).head(10)"
   ]
  },
  {
   "cell_type": "code",
   "execution_count": null,
   "id": "c439bb63",
   "metadata": {},
   "outputs": [],
   "source": [
    "algo = SVD()\n",
    "algo.fit(data.build_full_trainset())\n",
    "\n",
    "my_recs = []\n",
    "for iid in movies_to_predict:\n",
    "    my_recs.append((iid, algo.predict(uid=1001,iid=iid).est))\n",
    "    \n",
    "pd.DataFrame(my_recs, columns=['iid', 'predictions']).sort_values('predictions', ascending=False).head(10)"
   ]
  },
  {
   "cell_type": "code",
   "execution_count": null,
   "id": "217e58b8",
   "metadata": {},
   "outputs": [],
   "source": [
    "algo = SVDpp()\n",
    "algo.fit(data.build_full_trainset())\n",
    "\n",
    "my_recs = []\n",
    "for iid in movies_to_predict:\n",
    "    my_recs.append((iid, algo.predict(uid=1001,iid=iid).est))\n",
    "    \n",
    "pd.DataFrame(my_recs, columns=['iid', 'predictions']).sort_values('predictions', ascending=False).head(10)"
   ]
  },
  {
   "cell_type": "code",
   "execution_count": null,
   "id": "5eec4b1d",
   "metadata": {},
   "outputs": [],
   "source": [
    "algo = KNNWithZScore()\n",
    "algo.fit(data.build_full_trainset())\n",
    "\n",
    "my_recs = []\n",
    "for iid in movies_to_predict:\n",
    "    my_recs.append((iid, algo.predict(uid=1001,iid=iid).est))\n",
    "    \n",
    "pd.DataFrame(my_recs, columns=['iid', 'predictions']).sort_values('predictions', ascending=False).head(10)\n"
   ]
  },
  {
   "cell_type": "code",
   "execution_count": null,
   "id": "91041441",
   "metadata": {},
   "outputs": [],
   "source": [
    "algo = CoClustering()\n",
    "algo.fit(data.build_full_trainset())\n",
    "\n",
    "my_recs = []\n",
    "for iid in movies_to_predict:\n",
    "    my_recs.append((iid, algo.predict(uid=1001,iid=iid).est))\n",
    "    \n",
    "pd.DataFrame(my_recs, columns=['iid', 'predictions']).sort_values('predictions', ascending=False).head(10)"
   ]
  },
  {
   "cell_type": "code",
   "execution_count": null,
   "id": "999c0bb4",
   "metadata": {},
   "outputs": [],
   "source": [
    "\n",
    "cv = []\n",
    "# Iterate over all recommender system algorithms\n",
    "for recsys in [NMF(), SVD(), SVDpp(), KNNWithZScore(), CoClustering()]:\n",
    "    # Perform cross validation\n",
    "    tmp = cross_validate(recsys, data, measures=['RMSE'], cv=3, verbose=False)\n",
    "    cv.append((str(recsys).split(' ')[0].split('.')[-1], tmp['test_rmse'].mean()))\n",
    "\n",
    "pd.DataFrame(cv, columns=['RecSys', 'RMSE'])"
   ]
  },
  {
   "cell_type": "code",
   "execution_count": null,
   "id": "1275e3c2",
   "metadata": {},
   "outputs": [],
   "source": []
  },
  {
   "cell_type": "code",
   "execution_count": null,
   "id": "6f65cc1e",
   "metadata": {},
   "outputs": [],
   "source": []
  },
  {
   "cell_type": "code",
   "execution_count": null,
   "id": "696bee6b",
   "metadata": {},
   "outputs": [],
   "source": []
  }
 ],
 "metadata": {
  "kernelspec": {
   "display_name": "Python 3 (ipykernel)",
   "language": "python",
   "name": "python3"
  },
  "language_info": {
   "codemirror_mode": {
    "name": "ipython",
    "version": 3
   },
   "file_extension": ".py",
   "mimetype": "text/x-python",
   "name": "python",
   "nbconvert_exporter": "python",
   "pygments_lexer": "ipython3",
   "version": "3.9.7"
  }
 },
 "nbformat": 4,
 "nbformat_minor": 5
}
